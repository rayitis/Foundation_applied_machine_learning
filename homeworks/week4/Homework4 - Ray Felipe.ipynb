{
 "cells": [
  {
   "cell_type": "markdown",
   "metadata": {},
   "source": [
    "# PHYS243: Foundation of Applied Machine Learning"
   ]
  },
  {
   "cell_type": "markdown",
   "metadata": {},
   "source": [
    "<font size=4>Homework 4 - Handwritten Digits Recognition</font><br>\n",
    "<font size=3>Prof. Bahram Mobasher, Inst. Abtin Shahidi</font><br>\n",
    "<font size=3>Submitted By:</font><br>\n",
    "<font size=3>&nbsp;&nbsp;&nbsp;Ray Felipe</font><br>\n",
    "<font size=3>&nbsp;&nbsp;&nbsp;Student ID: 862120029</font><br>\n",
    "<font size=3>&nbsp;&nbsp;&nbsp;Aug. 3, 2019</font>"
   ]
  },
  {
   "cell_type": "markdown",
   "metadata": {},
   "source": [
    "## Executive Summary"
   ]
  },
  {
   "cell_type": "markdown",
   "metadata": {},
   "source": [
    "Image recognition is a foundation of machine learning. This exercise demonstrates machine learning algorithm to recognize and classify handwritten images using KNN, Decision Trees, and Random Forest algorithms. The dataset for this exercise is the MNIST dataset, which is a set of 60,000 examples, and a test set of 10,000 examples of handwritten images that can be used for digits writing identification. It is a subset of a larger set available from NIST. The digits have been size-normalized and centered in a fixed-size image[1]. "
   ]
  },
  {
   "cell_type": "markdown",
   "metadata": {},
   "source": [
    "## 1.0 Find all the 9s!"
   ]
  },
  {
   "cell_type": "markdown",
   "metadata": {},
   "source": [
    "To find all the 9s in the dataset, we must first load the MNIST dataset and view its data and layout to get a better understanding of its structure."
   ]
  },
  {
   "cell_type": "code",
   "execution_count": 129,
   "metadata": {},
   "outputs": [
    {
     "name": "stdout",
     "output_type": "stream",
     "text": [
      ".. _digits_dataset:\n",
      "\n",
      "Optical recognition of handwritten digits dataset\n",
      "--------------------------------------------------\n",
      "\n",
      "**Data Set Characteristics:**\n",
      "\n",
      "    :Number of Instances: 5620\n",
      "    :Number of Attributes: 64\n",
      "    :Attribute Information: 8x8 image of integer pixels in the range 0..16.\n",
      "    :Missing Attribute Values: None\n",
      "    :Creator: E. Alpaydin (alpaydin '@' boun.edu.tr)\n",
      "    :Date: July; 1998\n",
      "\n",
      "This is a copy of the test set of the UCI ML hand-written digits datasets\n",
      "http://archive.ics.uci.edu/ml/datasets/Optical+Recognition+of+Handwritten+Digits\n",
      "\n",
      "The data set contains images of hand-written digits: 10 classes where\n",
      "each class refers to a digit.\n",
      "\n",
      "Preprocessing programs made available by NIST were used to extract\n",
      "normalized bitmaps of handwritten digits from a preprinted form. From a\n",
      "total of 43 people, 30 contributed to the training set and different 13\n",
      "to the test set. 32x32 bitmaps are divided into nonoverlapping blocks of\n",
      "4x4 and the number of on pixels are counted in each block. This generates\n",
      "an input matrix of 8x8 where each element is an integer in the range\n",
      "0..16. This reduces dimensionality and gives invariance to small\n",
      "distortions.\n",
      "\n",
      "For info on NIST preprocessing routines, see M. D. Garris, J. L. Blue, G.\n",
      "T. Candela, D. L. Dimmick, J. Geist, P. J. Grother, S. A. Janet, and C.\n",
      "L. Wilson, NIST Form-Based Handprint Recognition System, NISTIR 5469,\n",
      "1994.\n",
      "\n",
      ".. topic:: References\n",
      "\n",
      "  - C. Kaynak (1995) Methods of Combining Multiple Classifiers and Their\n",
      "    Applications to Handwritten Digit Recognition, MSc Thesis, Institute of\n",
      "    Graduate Studies in Science and Engineering, Bogazici University.\n",
      "  - E. Alpaydin, C. Kaynak (1998) Cascading Classifiers, Kybernetika.\n",
      "  - Ken Tang and Ponnuthurai N. Suganthan and Xi Yao and A. Kai Qin.\n",
      "    Linear dimensionalityreduction using relevance weighted LDA. School of\n",
      "    Electrical and Electronic Engineering Nanyang Technological University.\n",
      "    2005.\n",
      "  - Claudio Gentile. A New Approximate Maximal Margin Classification\n",
      "    Algorithm. NIPS. 2000.\n"
     ]
    }
   ],
   "source": [
    "from sklearn import datasets\n",
    "mnist = datasets.load_digits()\n",
    "\n",
    "# Print out the description data\n",
    "print(mnist.DESCR)"
   ]
  },
  {
   "cell_type": "code",
   "execution_count": 126,
   "metadata": {},
   "outputs": [
    {
     "name": "stdout",
     "output_type": "stream",
     "text": [
      "dict_keys(['data', 'target', 'target_names', 'images', 'DESCR'])\n"
     ]
    }
   ],
   "source": [
    "print(mnist.keys())"
   ]
  },
  {
   "cell_type": "code",
   "execution_count": 131,
   "metadata": {},
   "outputs": [
    {
     "data": {
      "text/plain": [
       "array([[ 0.,  0.,  5., ...,  0.,  0.,  0.],\n",
       "       [ 0.,  0.,  0., ..., 10.,  0.,  0.],\n",
       "       [ 0.,  0.,  0., ..., 16.,  9.,  0.],\n",
       "       ...,\n",
       "       [ 0.,  0.,  1., ...,  6.,  0.,  0.],\n",
       "       [ 0.,  0.,  2., ..., 12.,  0.,  0.],\n",
       "       [ 0.,  0., 10., ..., 12.,  1.,  0.]])"
      ]
     },
     "execution_count": 131,
     "metadata": {},
     "output_type": "execute_result"
    }
   ],
   "source": [
    "mnist.data"
   ]
  },
  {
   "cell_type": "code",
   "execution_count": 133,
   "metadata": {},
   "outputs": [
    {
     "data": {
      "text/plain": [
       "array([0, 1, 2, ..., 8, 9, 8])"
      ]
     },
     "execution_count": 133,
     "metadata": {},
     "output_type": "execute_result"
    }
   ],
   "source": [
    "mnist.target\n"
   ]
  },
  {
   "cell_type": "markdown",
   "metadata": {},
   "source": [
    "Let's display some random image. In this case the first data in the array."
   ]
  },
  {
   "cell_type": "code",
   "execution_count": 134,
   "metadata": {},
   "outputs": [
    {
     "data": {
      "text/plain": [
       "array([ 0.,  0.,  0.,  7., 12.,  0.,  0.,  0.,  0.,  0.,  4., 16.,  8.,\n",
       "        0.,  0.,  0.,  0.,  0., 12., 11.,  0.,  0.,  0.,  0.,  0.,  0.,\n",
       "       15., 10.,  8.,  6.,  1.,  0.,  0.,  0., 15., 16.,  8., 10.,  8.,\n",
       "        0.,  0.,  0., 14.,  7.,  0.,  0., 12.,  0.,  0.,  0.,  8., 11.,\n",
       "        0.,  5., 16.,  2.,  0.,  0.,  0.,  9., 14., 14.,  5.,  0.])"
      ]
     },
     "execution_count": 134,
     "metadata": {},
     "output_type": "execute_result"
    }
   ],
   "source": [
    "digit_image = testData[0] # First digit image\n",
    "digit_image"
   ]
  },
  {
   "cell_type": "code",
   "execution_count": 135,
   "metadata": {},
   "outputs": [
    {
     "data": {
      "image/png": "[encoded data removed]",
      "text/plain": [
       "<Figure size 432x288 with 1 Axes>"
      ]
     },
     "metadata": {
      "needs_background": "light"
     },
     "output_type": "display_data"
    }
   ],
   "source": [
    "import matplotlib.pyplot as plt\n",
    "\n",
    "imgdata = np.array(digit_image, dtype='float')\n",
    "pixels = imgdata.reshape((8, 8))\n",
    "plt.imshow(pixels, cmap='gray')\n",
    "plt.show()"
   ]
  },
  {
   "cell_type": "markdown",
   "metadata": {},
   "source": [
    "We can now display one image. Displaying the rest of the image is not just a matter of changing the <i>testData[x]</i> index above with the x as the array index position in the dataset."
   ]
  },
  {
   "cell_type": "markdown",
   "metadata": {},
   "source": [
    "### 1.1 Find the 9s using K-Nearest neighbours for Minkowski metric of order (1, 2, 3)."
   ]
  },
  {
   "cell_type": "markdown",
   "metadata": {},
   "source": [
    "Now that we have a better view of the data, let's apply the KNN classification algorithm to find the image labels. In this case, all 9s. But first, let's split the data as training and test set[4]."
   ]
  },
  {
   "cell_type": "code",
   "execution_count": 2,
   "metadata": {},
   "outputs": [],
   "source": [
    "import numpy as np\n",
    "from sklearn.model_selection import train_test_split\n",
    "(trainData, testData, trainLabels, testLabels) = train_test_split(np.array(mnist.data),\n",
    "                                                                  mnist.target, test_size=0.25, random_state=42)"
   ]
  },
  {
   "cell_type": "markdown",
   "metadata": {},
   "source": [
    "Using KNN library from SKLearn, we find the predicted labels below."
   ]
  },
  {
   "cell_type": "code",
   "execution_count": 136,
   "metadata": {},
   "outputs": [
    {
     "data": {
      "text/plain": [
       "array([6, 9, 3, 7, 2, 1, 5, 2, 5, 2, 1, 9, 4, 0, 4, 2, 3, 7, 8, 8, 4, 3,\n",
       "       9, 7, 5, 6, 3, 5, 6, 3, 4, 9, 1, 4, 4, 6, 9, 4, 7, 6, 6, 9, 1, 3,\n",
       "       6, 1, 3, 0, 6, 5, 5, 1, 3, 5, 6, 0, 9, 0, 0, 1, 0, 4, 5, 2, 4, 5,\n",
       "       7, 0, 7, 5, 9, 5, 5, 4, 7, 0, 4, 5, 5, 9, 9, 0, 2, 3, 8, 0, 6, 4,\n",
       "       4, 9, 1, 2, 8, 3, 5, 2, 9, 0, 4, 4, 4, 3, 5, 3, 1, 3, 5, 9, 4, 2,\n",
       "       7, 7, 4, 4, 1, 9, 2, 7, 8, 7, 2, 6, 9, 4, 0, 7, 2, 7, 5, 8, 7, 5,\n",
       "       7, 9, 0, 6, 6, 4, 2, 8, 0, 9, 4, 6, 8, 9, 6, 9, 0, 3, 5, 6, 6, 0,\n",
       "       6, 4, 3, 9, 3, 4, 7, 2, 9, 0, 4, 5, 3, 6, 5, 9, 9, 8, 4, 2, 1, 3,\n",
       "       7, 7, 2, 2, 3, 9, 8, 0, 3, 2, 2, 5, 6, 9, 9, 4, 1, 5, 4, 2, 3, 6,\n",
       "       4, 8, 5, 9, 5, 7, 1, 3, 4, 8, 1, 5, 4, 4, 9, 6, 1, 8, 6, 0, 4, 5,\n",
       "       2, 7, 1, 6, 4, 5, 6, 0, 3, 2, 3, 6, 7, 1, 5, 1, 4, 7, 6, 8, 1, 5,\n",
       "       5, 1, 5, 2, 8, 8, 9, 5, 7, 6, 2, 2, 2, 3, 4, 8, 8, 3, 6, 0, 9, 7,\n",
       "       7, 0, 1, 0, 4, 5, 1, 5, 3, 6, 0, 4, 1, 0, 0, 3, 6, 5, 9, 7, 3, 5,\n",
       "       5, 9, 9, 8, 5, 3, 3, 2, 0, 5, 8, 3, 4, 0, 2, 4, 6, 4, 3, 4, 5, 0,\n",
       "       5, 2, 1, 3, 1, 4, 1, 1, 7, 0, 1, 5, 2, 1, 2, 8, 7, 0, 6, 4, 8, 8,\n",
       "       5, 1, 8, 4, 5, 8, 7, 9, 8, 5, 0, 6, 2, 0, 7, 9, 8, 9, 5, 2, 7, 7,\n",
       "       1, 8, 7, 4, 3, 8, 3, 5, 6, 0, 0, 3, 0, 5, 0, 0, 4, 1, 2, 8, 4, 5,\n",
       "       9, 6, 3, 1, 8, 8, 4, 2, 3, 8, 9, 8, 8, 5, 0, 6, 3, 3, 7, 1, 6, 4,\n",
       "       1, 2, 1, 1, 6, 4, 7, 4, 8, 3, 4, 0, 5, 1, 9, 4, 5, 7, 6, 3, 7, 0,\n",
       "       5, 9, 7, 5, 9, 7, 4, 2, 1, 9, 0, 7, 5, 3, 3, 6, 3, 9, 6, 9, 5, 0,\n",
       "       1, 5, 5, 8, 3, 3, 6, 2, 6, 5])"
      ]
     },
     "execution_count": 136,
     "metadata": {},
     "output_type": "execute_result"
    }
   ],
   "source": [
    "# Predict the digit\n",
    "from sklearn.neighbors import KNeighborsClassifier\n",
    "\n",
    "knn_val = 2\n",
    "#knn_model = KNeighborsClassifier(n_neighbors=knn_val)\n",
    "knn_model = KNeighborsClassifier(n_neighbors=knn_val, algorithm='auto', p=1, metric='minkowski')\n",
    "\n",
    "knn_model.fit(trainData, trainLabels)\n",
    "knn_predictions = knn_model.predict(testData)\n",
    "knn_predictions"
   ]
  },
  {
   "cell_type": "markdown",
   "metadata": {},
   "source": [
    "To find all the 9s, we simply loop through the <i>predictions</i> array and check for 9s."
   ]
  },
  {
   "cell_type": "code",
   "execution_count": 137,
   "metadata": {
    "scrolled": true
   },
   "outputs": [
    {
     "name": "stdout",
     "output_type": "stream",
     "text": [
      "[1, 11, 22, 31, 36, 41, 56, 70, 79, 80, 89, 96, 107, 115, 122, 133, 141, 145, 147, 157, 162, 169, 170, 181, 189, 190, 201, 212, 248, 262, 282, 287, 288, 337, 345, 347, 374, 384, 410, 419, 422, 427, 435, 437]\n"
     ]
    }
   ],
   "source": [
    "nine_image_index_positions = []\n",
    "for i in range(len(knn_predictions)):\n",
    "    if knn_predictions[i] == 9:\n",
    "        nine_image_index_positions.append(i)\n",
    "\n",
    "print(nine_image_index_positions)"
   ]
  },
  {
   "cell_type": "markdown",
   "metadata": {},
   "source": [
    "The output list above is the index position of all digits predicted as 9s. Let's display these results as images below."
   ]
  },
  {
   "cell_type": "code",
   "execution_count": 139,
   "metadata": {},
   "outputs": [
    {
     "data": {
      "image/png": "[encoded data removed]",
      "text/plain": [
       "<Figure size 720x288 with 44 Axes>"
      ]
     },
     "metadata": {},
     "output_type": "display_data"
    }
   ],
   "source": [
    "import matplotlib.pyplot as plt\n",
    "\n",
    "# Figure size (width, height) in inches\n",
    "fig = plt.figure(figsize=(10, 4))\n",
    "\n",
    "# Adjust the subplots\n",
    "fig.subplots_adjust(left=0, right=1, bottom=0, top=1, hspace=0.05, wspace=0.05)\n",
    "\n",
    "for i in range(len(nine_image_index_positions)):\n",
    "    ax = fig.add_subplot(8, 8, i + 1, xticks=[], yticks=[])\n",
    "    digit_image = testData[nine_image_index_positions[i]] # Position 1 of the predictions array\n",
    "    imgdata = np.array(digit_image, dtype='float')\n",
    "    pixels = imgdata.reshape((8, 8))\n",
    "    ax.imshow(pixels, cmap=plt.cm.binary, interpolation='nearest')\n",
    "    #ax.text(0, 7, str(pixels))\n",
    "    #plt.imshow(pixels, cmap='gray')\n",
    "\n",
    "plt.show()"
   ]
  },
  {
   "cell_type": "markdown",
   "metadata": {},
   "source": [
    "### 1.2. Find the 9s using Decision tree."
   ]
  },
  {
   "cell_type": "markdown",
   "metadata": {},
   "source": [
    "Next, let's find all the 9s using Decision Tree algorithm. A decision tree is a decision support tool that uses a tree-like model of decisions and their possible consequences, including chance event outcomes, resource costs, and utility. It is one way to display an algorithm that only contains conditional control statements[2]."
   ]
  },
  {
   "cell_type": "code",
   "execution_count": 9,
   "metadata": {
    "scrolled": true
   },
   "outputs": [
    {
     "data": {
      "text/plain": [
       "array([6, 9, 3, 7, 2, 1, 5, 3, 5, 7, 2, 9, 4, 0, 4, 2, 3, 7, 8, 8, 4, 3,\n",
       "       9, 7, 5, 6, 9, 5, 6, 8, 4, 9, 1, 4, 4, 6, 9, 4, 7, 6, 6, 9, 1, 3,\n",
       "       6, 1, 3, 0, 6, 5, 5, 1, 5, 5, 6, 0, 3, 0, 0, 4, 5, 4, 5, 2, 6, 5,\n",
       "       7, 0, 7, 5, 9, 5, 5, 4, 7, 0, 4, 5, 5, 9, 9, 0, 2, 3, 8, 0, 6, 4,\n",
       "       4, 9, 1, 2, 8, 3, 5, 2, 9, 4, 4, 7, 4, 3, 5, 3, 1, 4, 5, 8, 4, 2,\n",
       "       7, 7, 4, 4, 1, 9, 2, 7, 8, 7, 2, 6, 9, 4, 0, 7, 4, 7, 5, 9, 7, 5,\n",
       "       7, 3, 0, 6, 6, 4, 2, 8, 0, 9, 4, 6, 9, 9, 6, 9, 0, 5, 5, 6, 6, 0,\n",
       "       6, 4, 3, 9, 3, 3, 7, 2, 9, 0, 4, 5, 8, 6, 8, 4, 9, 3, 4, 2, 1, 9,\n",
       "       7, 7, 2, 2, 3, 9, 6, 0, 3, 8, 2, 5, 6, 9, 9, 4, 1, 5, 4, 3, 3, 6,\n",
       "       4, 1, 5, 9, 5, 7, 8, 9, 4, 8, 1, 5, 4, 4, 9, 6, 1, 8, 6, 0, 9, 5,\n",
       "       2, 7, 4, 6, 4, 5, 6, 4, 3, 2, 3, 6, 7, 1, 5, 1, 4, 7, 6, 1, 8, 5,\n",
       "       5, 1, 5, 2, 8, 1, 9, 9, 7, 2, 2, 8, 2, 3, 0, 8, 8, 3, 6, 0, 9, 7,\n",
       "       7, 0, 1, 0, 4, 5, 1, 3, 3, 6, 0, 4, 1, 0, 2, 3, 6, 5, 9, 7, 7, 7,\n",
       "       5, 9, 9, 8, 5, 3, 3, 2, 0, 5, 9, 3, 4, 0, 2, 4, 6, 4, 3, 7, 5, 0,\n",
       "       5, 2, 1, 3, 1, 4, 8, 1, 7, 0, 1, 5, 2, 1, 8, 8, 7, 0, 6, 4, 8, 8,\n",
       "       5, 1, 3, 4, 7, 9, 5, 9, 8, 6, 0, 1, 2, 0, 7, 9, 1, 9, 5, 2, 7, 7,\n",
       "       1, 8, 7, 4, 3, 8, 8, 3, 6, 0, 0, 3, 0, 5, 0, 0, 9, 1, 2, 8, 4, 5,\n",
       "       9, 6, 3, 1, 8, 8, 4, 6, 3, 4, 9, 8, 8, 4, 0, 6, 3, 3, 7, 1, 6, 4,\n",
       "       1, 2, 1, 1, 6, 4, 7, 4, 8, 3, 4, 0, 5, 1, 9, 4, 5, 7, 6, 9, 7, 0,\n",
       "       5, 9, 7, 5, 9, 7, 4, 2, 1, 9, 0, 7, 5, 3, 3, 6, 3, 9, 6, 9, 5, 0,\n",
       "       1, 5, 5, 8, 9, 3, 6, 2, 6, 5])"
      ]
     },
     "execution_count": 9,
     "metadata": {},
     "output_type": "execute_result"
    }
   ],
   "source": [
    "from sklearn import tree\n",
    "tree_model = tree.DecisionTreeClassifier(criterion=\"gini\")\n",
    "tree_model = tree_model.fit(trainData, trainLabels)\n",
    "tree_predictions = tree_model.predict(testData)\n",
    "tree_predictions"
   ]
  },
  {
   "cell_type": "markdown",
   "metadata": {},
   "source": [
    "The outcome above are the predicted digits for the training data set using SKlearns Decision Tree Classifier[5]. Now let's find all 9s."
   ]
  },
  {
   "cell_type": "code",
   "execution_count": 10,
   "metadata": {},
   "outputs": [
    {
     "name": "stdout",
     "output_type": "stream",
     "text": [
      "[1, 11, 22, 26, 31, 36, 41, 70, 79, 80, 89, 96, 115, 122, 129, 141, 144, 145, 147, 157, 162, 170, 175, 181, 189, 190, 201, 205, 212, 218, 248, 249, 262, 282, 287, 288, 296, 335, 337, 345, 347, 368, 374, 384, 410, 415, 419, 422, 427, 435, 437, 444]\n"
     ]
    }
   ],
   "source": [
    "nine_image_index_positions = []\n",
    "for i in range(len(tree_predictions)):\n",
    "    if tree_predictions[i] == 9:\n",
    "        nine_image_index_positions.append(i)\n",
    "\n",
    "print(nine_image_index_positions)"
   ]
  },
  {
   "cell_type": "markdown",
   "metadata": {},
   "source": [
    "The output above tells us the index position of all 9s in the training data set using decision tree prediction. Let's display the predicted images below."
   ]
  },
  {
   "cell_type": "code",
   "execution_count": 11,
   "metadata": {},
   "outputs": [
    {
     "data": {
      "image/png": "[encoded data removed]",
      "text/plain": [
       "<Figure size 720x288 with 52 Axes>"
      ]
     },
     "metadata": {},
     "output_type": "display_data"
    }
   ],
   "source": [
    "# Figure size (width, height) in inches\n",
    "\n",
    "fig = plt.figure(figsize=(10, 4))\n",
    "\n",
    "# Adjust the subplots\n",
    "fig.subplots_adjust(left=0, right=1, bottom=0, top=1, hspace=0.05, wspace=0.05)\n",
    "\n",
    "for i in range(len(nine_image_index_positions)):\n",
    "    ax = fig.add_subplot(8, 8, i + 1, xticks=[], yticks=[])\n",
    "    digit_image = testData[nine_image_index_positions[i]] \n",
    "    imgdata = np.array(digit_image, dtype='float')\n",
    "    pixels = imgdata.reshape((8, 8))\n",
    "    ax.imshow(pixels, cmap=plt.cm.binary, interpolation='nearest')\n",
    "    #plt.imshow(pixels, cmap='gray')\n",
    "\n",
    "plt.show()"
   ]
  },
  {
   "cell_type": "markdown",
   "metadata": {},
   "source": [
    "The output above are the images predicted by our decision classifier to be 9s. Note that the result is slightly different than the KNN classifier."
   ]
  },
  {
   "cell_type": "markdown",
   "metadata": {},
   "source": [
    "### 1.3. Find the 9s using Random Forests."
   ]
  },
  {
   "cell_type": "markdown",
   "metadata": {},
   "source": [
    "Next, we find the 9s using random forest algorithm. Random forests or random decision forests are an ensemble learning method for classification, regression and other tasks that operates by constructing a multitude of decision trees at training time and outputting the class that is the mode of the classes (classification) or mean prediction (regression) of the individual trees[3]."
   ]
  },
  {
   "cell_type": "code",
   "execution_count": 141,
   "metadata": {},
   "outputs": [
    {
     "name": "stderr",
     "output_type": "stream",
     "text": [
      "C:\\Users\\ramon\\Anaconda3\\lib\\site-packages\\sklearn\\ensemble\\forest.py:246: FutureWarning: The default value of n_estimators will change from 10 in version 0.20 to 100 in 0.22.\n",
      "  \"10 in version 0.20 to 100 in 0.22.\", FutureWarning)\n"
     ]
    },
    {
     "data": {
      "text/plain": [
       "array([6, 9, 3, 7, 2, 1, 5, 2, 5, 2, 1, 4, 4, 0, 4, 2, 3, 7, 8, 8, 4, 3,\n",
       "       9, 7, 5, 6, 3, 5, 6, 3, 4, 9, 1, 4, 4, 6, 9, 4, 7, 6, 6, 9, 1, 3,\n",
       "       6, 1, 3, 0, 6, 5, 5, 1, 9, 5, 6, 0, 9, 0, 0, 1, 0, 4, 5, 2, 4, 5,\n",
       "       7, 0, 7, 5, 9, 5, 5, 4, 7, 0, 7, 5, 5, 9, 9, 0, 2, 3, 8, 0, 6, 4,\n",
       "       4, 9, 1, 2, 8, 3, 5, 2, 9, 4, 4, 4, 4, 3, 5, 3, 1, 3, 5, 9, 4, 2,\n",
       "       7, 7, 4, 4, 1, 9, 2, 7, 8, 7, 2, 6, 9, 4, 6, 7, 2, 7, 5, 8, 7, 5,\n",
       "       7, 1, 0, 6, 6, 4, 2, 8, 0, 9, 4, 6, 9, 9, 6, 9, 0, 1, 5, 6, 6, 0,\n",
       "       6, 4, 3, 9, 3, 7, 7, 2, 9, 0, 4, 5, 3, 6, 5, 9, 9, 8, 4, 2, 1, 3,\n",
       "       7, 7, 2, 2, 3, 9, 8, 0, 3, 2, 2, 5, 6, 9, 9, 4, 1, 5, 4, 2, 3, 6,\n",
       "       4, 8, 5, 9, 5, 7, 1, 9, 4, 8, 1, 5, 4, 4, 9, 6, 1, 8, 6, 0, 4, 5,\n",
       "       2, 7, 4, 6, 4, 5, 6, 0, 3, 2, 3, 6, 7, 1, 5, 1, 4, 7, 6, 5, 8, 5,\n",
       "       5, 1, 4, 8, 8, 8, 7, 5, 7, 6, 2, 2, 2, 3, 4, 8, 5, 3, 6, 0, 9, 7,\n",
       "       7, 0, 1, 0, 4, 5, 1, 5, 3, 6, 0, 4, 1, 0, 0, 3, 6, 5, 9, 4, 3, 5,\n",
       "       5, 9, 9, 1, 5, 3, 3, 2, 0, 5, 8, 3, 4, 0, 2, 4, 6, 4, 3, 4, 5, 0,\n",
       "       5, 2, 1, 3, 1, 4, 1, 1, 7, 0, 1, 5, 2, 1, 1, 8, 7, 0, 6, 4, 8, 8,\n",
       "       5, 1, 8, 4, 5, 8, 7, 9, 8, 6, 0, 6, 2, 0, 7, 9, 8, 9, 5, 2, 7, 7,\n",
       "       1, 8, 7, 4, 3, 8, 3, 5, 6, 0, 0, 3, 0, 5, 6, 0, 4, 1, 2, 3, 4, 5,\n",
       "       9, 6, 3, 1, 8, 8, 4, 2, 3, 8, 9, 8, 8, 5, 0, 6, 3, 3, 7, 1, 6, 4,\n",
       "       1, 2, 1, 8, 6, 4, 7, 4, 8, 3, 4, 0, 5, 1, 9, 4, 5, 7, 6, 3, 7, 0,\n",
       "       1, 9, 9, 5, 9, 7, 4, 2, 1, 9, 0, 7, 5, 1, 3, 6, 3, 9, 6, 9, 5, 0,\n",
       "       1, 5, 5, 8, 3, 3, 6, 2, 6, 5])"
      ]
     },
     "execution_count": 141,
     "metadata": {},
     "output_type": "execute_result"
    }
   ],
   "source": [
    "from sklearn.ensemble import RandomForestClassifier\n",
    "ran_forest_model = RandomForestClassifier()\n",
    "ran_forest_model.fit(trainData, trainLabels)\n",
    "ran_forest_predictions = ran_forest_model.predict(testData)\n",
    "ran_forest_predictions"
   ]
  },
  {
   "cell_type": "code",
   "execution_count": 13,
   "metadata": {},
   "outputs": [
    {
     "name": "stdout",
     "output_type": "stream",
     "text": [
      "[1, 22, 31, 36, 41, 52, 56, 69, 70, 71, 78, 79, 80, 89, 94, 96, 107, 115, 122, 141, 144, 145, 147, 157, 162, 170, 181, 189, 190, 201, 212, 234, 248, 282, 287, 288, 337, 345, 347, 384, 410, 419, 422, 427, 435, 437]\n"
     ]
    }
   ],
   "source": [
    "nine_image_index_positions = []\n",
    "for i in range(len(ran_forest_predictions)):\n",
    "    if ran_forest_predictions[i] == 9:\n",
    "        nine_image_index_positions.append(i)\n",
    "\n",
    "print(nine_image_index_positions)"
   ]
  },
  {
   "cell_type": "code",
   "execution_count": 14,
   "metadata": {},
   "outputs": [
    {
     "data": {
      "image/png": "[encoded data removed]",
      "text/plain": [
       "<Figure size 720x288 with 46 Axes>"
      ]
     },
     "metadata": {},
     "output_type": "display_data"
    }
   ],
   "source": [
    "# Figure size (width, height) in inches\n",
    "\n",
    "fig = plt.figure(figsize=(10, 4))\n",
    "\n",
    "# Adjust the subplots\n",
    "fig.subplots_adjust(left=0, right=1, bottom=0, top=1, hspace=0.05, wspace=0.05)\n",
    "\n",
    "for i in range(len(nine_image_index_positions)):\n",
    "    ax = fig.add_subplot(8, 8, i + 1, xticks=[], yticks=[])\n",
    "    digit_image = testData[nine_image_index_positions[i]] \n",
    "    imgdata = np.array(digit_image, dtype='float')\n",
    "    pixels = imgdata.reshape((8, 8))\n",
    "    ax.imshow(pixels, cmap=plt.cm.binary, interpolation='nearest')\n",
    "    #plt.imshow(pixels, cmap='gray')\n",
    "\n",
    "plt.show()"
   ]
  },
  {
   "cell_type": "markdown",
   "metadata": {},
   "source": [
    "The output above shows us the images that are 9s as predicted by our random forest classifier[6]."
   ]
  },
  {
   "cell_type": "markdown",
   "metadata": {},
   "source": [
    "## 2.0 Find every single digits!"
   ]
  },
  {
   "cell_type": "markdown",
   "metadata": {},
   "source": [
    "### 2.1. First forget about the labels and run the k-means algorithm to find whether there is an underlying patterns. So, first find the k clusters (there is obviously 10 clusters). Then look at their labels and find the accuracy. By doing this you are turning a supervised learning into an unsupervised learning!"
   ]
  },
  {
   "cell_type": "markdown",
   "metadata": {},
   "source": [
    "In the first part of this exercise we used classification algorithms to clasify images into number labels. This is called supervised learning given that we know the labels (0-9) in advance. In this second part of the exercise we use clustering, or unsupervised learning, to find labels for the dataset images[8]."
   ]
  },
  {
   "cell_type": "markdown",
   "metadata": {},
   "source": [
    "#### 2.1.1 Find K Clusters"
   ]
  },
  {
   "cell_type": "markdown",
   "metadata": {},
   "source": [
    "Using KMeans clustering[7], we can find cluster patterns in our dataset. As before, we have to split our data into training and test set."
   ]
  },
  {
   "cell_type": "code",
   "execution_count": 144,
   "metadata": {},
   "outputs": [
    {
     "data": {
      "text/plain": [
       "KMeans(algorithm='auto', copy_x=True, init='k-means++', max_iter=300,\n",
       "    n_clusters=10, n_init=10, n_jobs=None, precompute_distances='auto',\n",
       "    random_state=42, tol=0.0001, verbose=0)"
      ]
     },
     "execution_count": 144,
     "metadata": {},
     "output_type": "execute_result"
    }
   ],
   "source": [
    "from sklearn.preprocessing import scale\n",
    "data = scale(mnist.data)\n",
    "\n",
    "from sklearn.model_selection import train_test_split\n",
    "X_train, X_test, y_train, y_test, images_train, images_test = train_test_split(data, mnist.target, mnist.images, test_size=0.25, random_state=42)\n",
    "\n",
    "from sklearn import cluster\n",
    "kmeans_clf = cluster.KMeans(init='k-means++', n_clusters=10, random_state=42)\n",
    "\n",
    "kmeans_clf.fit(X_train)"
   ]
  },
  {
   "cell_type": "markdown",
   "metadata": {},
   "source": [
    "Now that we have fitted the data into our KMeans model[7], let's view the clusters."
   ]
  },
  {
   "cell_type": "code",
   "execution_count": 21,
   "metadata": {},
   "outputs": [
    {
     "data": {
      "image/png": "[encoded data removed]",
      "text/plain": [
       "<Figure size 576x216 with 10 Axes>"
      ]
     },
     "metadata": {
      "needs_background": "light"
     },
     "output_type": "display_data"
    }
   ],
   "source": [
    "import matplotlib.pyplot as plt\n",
    "fig = plt.figure(figsize=(8, 3))\n",
    "fig.suptitle('Cluster Images', fontsize=14, fontweight='bold')\n",
    "\n",
    "for i in range(10): # For each labels of the cluster - 0 to 9\n",
    "    ax = fig.add_subplot(2, 5, 1 + i)\n",
    "    ax.imshow(kmeans_clf.cluster_centers_[i].reshape((8, 8)), cmap=plt.cm.binary)\n",
    "\n",
    "plt.show()"
   ]
  },
  {
   "cell_type": "markdown",
   "metadata": {},
   "source": [
    "#### 2.1.1 Find Labels"
   ]
  },
  {
   "cell_type": "markdown",
   "metadata": {},
   "source": [
    "Now that we have the clusters from the previous step, let's find the labels for these clusters. In this case, we'll use SVM to predict our labels."
   ]
  },
  {
   "cell_type": "code",
   "execution_count": 148,
   "metadata": {},
   "outputs": [
    {
     "data": {
      "text/plain": [
       "\"\\nkmeans_clf.score(X_test, y_test)  \\nsvm.SVC(C=10, kernel='rbf', gamma=0.001).fit(X_train, y_train).score(X_test, y_test)\\n\""
      ]
     },
     "execution_count": 148,
     "metadata": {},
     "output_type": "execute_result"
    }
   ],
   "source": [
    "from sklearn.model_selection import train_test_split\n",
    "X_train, X_test, y_train, y_test, images_train, images_test = train_test_split(mnist.data, mnist.target, mnist.images, test_size=0.25, random_state=42)\n",
    "\n",
    "from sklearn import svm\n",
    "svc_model = svm.SVC(gamma=0.001, C=100., kernel='linear')\n",
    "svc_model.fit(X_train, y_train)\n",
    "'''\n",
    "kmeans_clf.score(X_test, y_test)  \n",
    "svm.SVC(C=10, kernel='rbf', gamma=0.001).fit(X_train, y_train).score(X_test, y_test)\n",
    "'''"
   ]
  },
  {
   "cell_type": "code",
   "execution_count": 149,
   "metadata": {},
   "outputs": [
    {
     "name": "stdout",
     "output_type": "stream",
     "text": [
      "[6 9 3 7 2 1 5 2 5 2 1 9 4 0 4 2 3 7 8 8 4 3 9 7 5 6 3 5 6 3 4 9 1 4 4 6 9\n",
      " 4 7 6 6 9 1 3 6 1 3 0 6 5 5 1 3 5 6 0 9 0 0 1 0 4 5 2 4 5 7 0 7 5 9 5 5 4\n",
      " 7 0 4 5 5 9 9 0 2 3 8 0 6 4 4 9 1 2 8 3 5 2 9 0 4 4 4 3 5 3 1 3 5 9 4 2 7\n",
      " 7 4 4 1 9 2 7 8 7 2 6 9 4 0 7 2 7 5 8 7 5 7 9 0 6 6 4 2 8 0 9 4 6 9 9 6 9\n",
      " 0 5 5 6 6 0 6 4 3 9 3 7 7 2 9 0 4 5 3 6 5 9 9 8 4 2 1 3 7 7 2 2 3 9 8 0 3\n",
      " 2 2 5 6 9 9 4 1 5 4 2 3 6 4 8 5 9 5 7 8 9 4 8 1 5 4 4 9 6 1 8 6 0 4 5 2 7\n",
      " 1 6 4 5 6 0 3 2 3 6 7 1 5 1 4 7 6 5 8 5 5 1 6 2 8 8 9 9 7 6 2 2 2 3 4 8 8\n",
      " 3 6 0 9 7 7 0 1 0 4 5 1 5 3 6 0 4 1 0 0 3 6 5 9 7 3 5 5 9 9 8 5 3 3 2 0 5\n",
      " 8 3 4 0 2 4 6 4 3 4 5 0 5 2 1 3 1 4 1 1 7 0 1 5 2 1 2 8 7 0 6 4 8 8 5 1 8\n",
      " 4 5 8 7 9 8 5 0 6 2 0 7 9 8 9 5 2 7 7 1 8 7 4 3 8 9 5 6 0 0 3 0 5 0 0 4 1\n",
      " 2 8 4 5 9 6 3 1 8 8 4 2 3 8 9 8 8 5 0 6 3 3 7 1 6 4 1 2 1 1 6 4 7 4 8 3 4\n",
      " 0 5 1 9 4 5 7 6 3 7 0 5 9 7 5 9 7 4 2 1 9 0 7 5 2 3 6 3 9 6 9 5 0 1 5 5 8\n",
      " 3 3 6 2 6 5]\n",
      "[6 9 3 7 2 1 5 2 5 2 1 9 4 0 4 2 3 7 8 8 4 3 9 7 5 6 3 5 6 3 4 9 1 4 4 6 9\n",
      " 4 7 6 6 9 1 3 6 1 3 0 6 5 5 1 9 5 6 0 9 0 0 1 0 4 5 2 4 5 7 0 7 5 9 5 5 4\n",
      " 7 0 4 5 5 9 9 0 2 3 8 0 6 4 4 9 1 2 8 3 5 2 9 0 4 4 4 3 5 3 1 3 5 9 4 2 7\n",
      " 7 4 4 1 9 2 7 8 7 2 6 9 4 0 7 2 7 5 8 7 5 7 7 0 6 6 4 2 8 0 9 4 6 9 9 6 9\n",
      " 0 3 5 6 6 0 6 4 3 9 3 9 7 2 9 0 4 5 3 6 5 9 9 8 4 2 1 3 7 7 2 2 3 9 8 0 3\n",
      " 2 2 5 6 9 9 4 1 5 4 2 3 6 4 8 5 9 5 7 8 9 4 8 1 5 4 4 9 6 1 8 6 0 4 5 2 7\n",
      " 4 6 4 5 6 0 3 2 3 6 7 1 5 1 4 7 6 8 8 5 5 1 6 2 8 8 9 9 7 6 2 2 2 3 4 8 8\n",
      " 3 6 0 9 7 7 0 1 0 4 5 1 5 3 6 0 4 1 0 0 3 6 5 9 7 3 5 5 9 9 8 5 3 3 2 0 5\n",
      " 8 3 4 0 2 4 6 4 3 4 5 0 5 2 1 3 1 4 1 1 7 0 1 5 2 1 2 8 7 0 6 4 8 8 5 1 8\n",
      " 4 5 8 7 9 8 5 0 6 2 0 7 9 8 9 5 2 7 7 1 8 7 4 3 8 3 5 6 0 0 3 0 5 0 0 4 1\n",
      " 2 8 4 5 9 6 3 1 8 8 4 2 3 8 9 8 8 5 0 6 3 3 7 1 6 4 1 2 1 1 6 4 7 4 8 3 4\n",
      " 0 5 1 9 4 5 7 6 3 7 0 5 9 7 5 9 7 4 2 1 9 0 7 5 3 3 6 3 9 6 9 5 0 1 5 5 8\n",
      " 3 3 6 2 6 5]\n"
     ]
    }
   ],
   "source": [
    "# Predict the label of `X_test`\n",
    "print(svc_model.predict(X_test))\n",
    "\n",
    "# Print `y_test` to check the results\n",
    "print(y_test)"
   ]
  },
  {
   "cell_type": "code",
   "execution_count": 150,
   "metadata": {},
   "outputs": [
    {
     "data": {
      "image/png": "[encoded data removed]",
      "text/plain": [
       "<Figure size 432x288 with 4 Axes>"
      ]
     },
     "metadata": {
      "needs_background": "light"
     },
     "output_type": "display_data"
    }
   ],
   "source": [
    "# Import matplotlib\n",
    "import matplotlib.pyplot as plt\n",
    "\n",
    "# Assign the predicted values to `predicted`\n",
    "svc_prediction = svc_model.predict(X_test)\n",
    "\n",
    "# Zip together the `images_test` and `predicted` values in `images_and_predictions`\n",
    "images_and_predictions = list(zip(images_test, svc_prediction))\n",
    "\n",
    "# For the first 4 elements in `images_and_predictions`\n",
    "for index, (image, prediction) in enumerate(images_and_predictions[:4]):\n",
    "    # Initialize subplots in a grid of 1 by 4 at positions i+1\n",
    "    plt.subplot(1, 4, index + 1)\n",
    "    # Don't show axes\n",
    "    plt.axis('off')\n",
    "    # Display images in all subplots in the grid\n",
    "    plt.imshow(image, cmap=plt.cm.gray_r, interpolation='nearest')\n",
    "    # Add a title to the plot\n",
    "    plt.title('Predicted: ' + str(prediction))\n",
    "\n",
    "# Show the plot\n",
    "plt.show()"
   ]
  },
  {
   "cell_type": "code",
   "execution_count": 151,
   "metadata": {},
   "outputs": [
    {
     "name": "stdout",
     "output_type": "stream",
     "text": [
      "[[ 0.  0.  0.  7. 12.  0.  0.  0.]\n",
      " [ 0.  0.  4. 16.  8.  0.  0.  0.]\n",
      " [ 0.  0. 12. 11.  0.  0.  0.  0.]\n",
      " [ 0.  0. 15. 10.  8.  6.  1.  0.]\n",
      " [ 0.  0. 15. 16.  8. 10.  8.  0.]\n",
      " [ 0.  0. 14.  7.  0.  0. 12.  0.]\n",
      " [ 0.  0.  8. 11.  0.  5. 16.  2.]\n",
      " [ 0.  0.  0.  9. 14. 14.  5.  0.]]\n",
      "6\n"
     ]
    }
   ],
   "source": [
    "print(images_and_predictions[0][0])\n",
    "print(images_and_predictions[0][1])"
   ]
  },
  {
   "cell_type": "code",
   "execution_count": 74,
   "metadata": {},
   "outputs": [
    {
     "data": {
      "text/plain": [
       "(array([[ 0.,  0.,  0.,  7., 12.,  0.,  0.,  0.],\n",
       "        [ 0.,  0.,  4., 16.,  8.,  0.,  0.,  0.],\n",
       "        [ 0.,  0., 12., 11.,  0.,  0.,  0.,  0.],\n",
       "        [ 0.,  0., 15., 10.,  8.,  6.,  1.,  0.],\n",
       "        [ 0.,  0., 15., 16.,  8., 10.,  8.,  0.],\n",
       "        [ 0.,  0., 14.,  7.,  0.,  0., 12.,  0.],\n",
       "        [ 0.,  0.,  8., 11.,  0.,  5., 16.,  2.],\n",
       "        [ 0.,  0.,  0.,  9., 14., 14.,  5.,  0.]]), 6)"
      ]
     },
     "execution_count": 74,
     "metadata": {},
     "output_type": "execute_result"
    }
   ],
   "source": [
    "images_and_predictions[0]"
   ]
  },
  {
   "cell_type": "code",
   "execution_count": 91,
   "metadata": {},
   "outputs": [
    {
     "name": "stdout",
     "output_type": "stream",
     "text": [
      "Predicted label of image below:6\n"
     ]
    },
    {
     "data": {
      "image/png": "[encoded data removed]",
      "text/plain": [
       "<Figure size 432x288 with 1 Axes>"
      ]
     },
     "metadata": {
      "needs_background": "light"
     },
     "output_type": "display_data"
    }
   ],
   "source": [
    "import matplotlib.pyplot as plt\n",
    "\n",
    "imgdata = np.array(images_and_predictions[0][0], dtype='float')\n",
    "pixels = imgdata.reshape((8, 8))\n",
    "plt.imshow(pixels, cmap='gray')\n",
    "print(\"Predicted label of image below:\" + str(images_and_predictions[0][1]))\n",
    "plt.show()"
   ]
  },
  {
   "cell_type": "markdown",
   "metadata": {},
   "source": [
    "Using the same approach above to other digits, we now have the (predicted) labels for all images"
   ]
  },
  {
   "cell_type": "markdown",
   "metadata": {},
   "source": [
    "#### 2.1.2 Find Accuracy"
   ]
  },
  {
   "cell_type": "markdown",
   "metadata": {},
   "source": [
    "Let's check the accuracy of this prediction."
   ]
  },
  {
   "cell_type": "code",
   "execution_count": 147,
   "metadata": {},
   "outputs": [
    {
     "data": {
      "text/plain": [
       "0.9911111111111112"
      ]
     },
     "execution_count": 147,
     "metadata": {},
     "output_type": "execute_result"
    }
   ],
   "source": [
    "kmeans_clf.score(X_test, y_test)  \n",
    "svm.SVC(C=10, kernel='rbf', gamma=0.001).fit(X_train, y_train).score(X_test, y_test)"
   ]
  },
  {
   "cell_type": "markdown",
   "metadata": {},
   "source": [
    "The result above tells us that our SVM classification has a very high accuracy, which is 99%.\n",
    "\n",
    "In addition, let's print the classification report[9] of our test data and the predicted data."
   ]
  },
  {
   "cell_type": "code",
   "execution_count": 37,
   "metadata": {},
   "outputs": [
    {
     "name": "stdout",
     "output_type": "stream",
     "text": [
      "              precision    recall  f1-score   support\n",
      "\n",
      "           0       1.00      1.00      1.00        43\n",
      "           1       0.97      1.00      0.99        37\n",
      "           2       0.97      1.00      0.99        38\n",
      "           3       0.98      0.93      0.96        46\n",
      "           4       1.00      0.98      0.99        55\n",
      "           5       0.97      1.00      0.98        59\n",
      "           6       1.00      1.00      1.00        45\n",
      "           7       0.98      0.98      0.98        41\n",
      "           8       1.00      0.97      0.99        38\n",
      "           9       0.96      0.96      0.96        48\n",
      "\n",
      "   micro avg       0.98      0.98      0.98       450\n",
      "   macro avg       0.98      0.98      0.98       450\n",
      "weighted avg       0.98      0.98      0.98       450\n",
      "\n",
      "[[43  0  0  0  0  0  0  0  0  0]\n",
      " [ 0 37  0  0  0  0  0  0  0  0]\n",
      " [ 0  0 38  0  0  0  0  0  0  0]\n",
      " [ 0  0  1 43  0  1  0  0  0  1]\n",
      " [ 0  1  0  0 54  0  0  0  0  0]\n",
      " [ 0  0  0  0  0 59  0  0  0  0]\n",
      " [ 0  0  0  0  0  0 45  0  0  0]\n",
      " [ 0  0  0  0  0  0  0 40  0  1]\n",
      " [ 0  0  0  0  0  1  0  0 37  0]\n",
      " [ 0  0  0  1  0  0  0  1  0 46]]\n"
     ]
    }
   ],
   "source": [
    "# Import `metrics`\n",
    "from sklearn import metrics\n",
    "\n",
    "# Print the classification report of `y_test` and `predicted`\n",
    "print(metrics.classification_report(y_test, predicted))\n",
    "\n",
    "# Print the confusion matrix\n",
    "print(metrics.confusion_matrix(y_test, predicted))"
   ]
  },
  {
   "cell_type": "markdown",
   "metadata": {},
   "source": [
    "### 2.2. Find the digits using K-Nearest neighbours for Minkowski metric of order (1, 2, 3)."
   ]
  },
  {
   "cell_type": "markdown",
   "metadata": {},
   "source": [
    "Leveraging the solution to problem 1.1 above, I used the <i>predictions</i> variable, which contains the predicted labels for all images."
   ]
  },
  {
   "cell_type": "code",
   "execution_count": 101,
   "metadata": {},
   "outputs": [
    {
     "name": "stdout",
     "output_type": "stream",
     "text": [
      "[5, 10, 32, 42, 45, 51, 59, 90, 104, 114, 174, 192, 204, 208, 214, 222, 233, 235, 240, 243, 266, 270, 276, 310, 312, 314, 315, 318, 321, 331, 352, 369, 377, 393, 396, 398, 399, 409, 426, 440]\n"
     ]
    }
   ],
   "source": [
    "index_positions_for_one = []\n",
    "index_positions_for_two = []\n",
    "index_positions_for_three = []\n",
    "index_positions_for_four = []\n",
    "index_positions_for_five = []\n",
    "index_positions_for_six = []\n",
    "index_positions_for_seven = []\n",
    "index_positions_for_eight = []\n",
    "index_positions_for_nine = []\n",
    "index_positions_for_zero = []\n",
    "for i in range(len(knn_predictions)):\n",
    "    if knn_predictions[i] == 1:\n",
    "        index_positions_for_one.append(i)\n",
    "    if knn_predictions[i] == 2:\n",
    "        index_positions_for_two.append(i)\n",
    "    if knn_predictions[i] == 3:\n",
    "        index_positions_for_three.append(i)\n",
    "    if knn_predictions[i] == 4:\n",
    "        index_positions_for_four.append(i)\n",
    "    if knn_predictions[i] == 5:\n",
    "        index_positions_for_five.append(i)\n",
    "    if knn_predictions[i] == 6:\n",
    "        index_positions_for_six.append(i)\n",
    "    if knn_predictions[i] == 7:\n",
    "        index_positions_for_seven.append(i)\n",
    "    if knn_predictions[i] == 8:\n",
    "        index_positions_for_eight.append(i)\n",
    "    if knn_predictions[i] == 9:\n",
    "        index_positions_for_nine.append(i)\n",
    "    if knn_predictions[i] == 0:\n",
    "        index_positions_for_zero.append(i)\n",
    "\n",
    "print(index_positions_for_one)\n"
   ]
  },
  {
   "cell_type": "markdown",
   "metadata": {},
   "source": [
    "The output of index_positions_for_one above tells us where the \"one\" image can be found in our list of images."
   ]
  },
  {
   "cell_type": "markdown",
   "metadata": {},
   "source": [
    "Let's try to display a couple of random sample from this output."
   ]
  },
  {
   "cell_type": "code",
   "execution_count": 102,
   "metadata": {},
   "outputs": [
    {
     "data": {
      "image/png": "[encoded data removed]",
      "text/plain": [
       "<Figure size 432x288 with 1 Axes>"
      ]
     },
     "metadata": {
      "needs_background": "light"
     },
     "output_type": "display_data"
    }
   ],
   "source": [
    "digit_image = testData[5] # Position 141 of the predictections array\n",
    "\n",
    "imgdata = np.array(digit_image, dtype='float')\n",
    "pixels = imgdata.reshape((8, 8))\n",
    "plt.imshow(pixels, cmap='gray')\n",
    "plt.show()"
   ]
  },
  {
   "cell_type": "markdown",
   "metadata": {},
   "source": [
    "The image above does, in fact, looks like the number 1. Let's try one more."
   ]
  },
  {
   "cell_type": "code",
   "execution_count": 103,
   "metadata": {},
   "outputs": [
    {
     "data": {
      "image/png": "[encoded data removed]",
      "text/plain": [
       "<Figure size 432x288 with 1 Axes>"
      ]
     },
     "metadata": {
      "needs_background": "light"
     },
     "output_type": "display_data"
    }
   ],
   "source": [
    "digit_image = testData[10]\n",
    "\n",
    "imgdata = np.array(digit_image, dtype='float')\n",
    "pixels = imgdata.reshape((8, 8))\n",
    "plt.imshow(pixels, cmap='gray')\n",
    "plt.show()"
   ]
  },
  {
   "cell_type": "markdown",
   "metadata": {},
   "source": [
    "Now let's try number 7"
   ]
  },
  {
   "cell_type": "code",
   "execution_count": 153,
   "metadata": {},
   "outputs": [
    {
     "name": "stdout",
     "output_type": "stream",
     "text": [
      "[3, 17, 23, 38, 66, 68, 74, 110, 111, 117, 119, 125, 127, 130, 132, 160, 176, 177, 203, 221, 232, 237, 250, 263, 264, 283, 316, 324, 336, 344, 350, 351, 354, 392, 402, 413, 416, 420, 423, 429, 3, 9, 17, 23, 38, 66, 68, 74, 99, 110, 111, 117, 119, 125, 127, 130, 132, 160, 176, 177, 203, 221, 232, 237, 250, 263, 264, 283, 284, 285, 305, 316, 324, 334, 344, 350, 351, 354, 392, 402, 413, 416, 420, 423, 429, 3, 9, 17, 23, 38, 66, 68, 74, 99, 110, 111, 117, 119, 125, 127, 130, 132, 160, 176, 177, 203, 221, 232, 237, 250, 263, 264, 283, 284, 285, 305, 316, 324, 334, 344, 350, 351, 354, 392, 402, 413, 416, 420, 423, 429, 3, 17, 23, 38, 66, 68, 74, 110, 111, 117, 119, 125, 127, 130, 132, 133, 159, 160, 176, 177, 203, 221, 232, 237, 250, 263, 264, 283, 316, 324, 336, 344, 350, 351, 354, 392, 402, 413, 416, 420, 423, 429]\n"
     ]
    }
   ],
   "source": [
    "print(index_positions_for_seven)"
   ]
  },
  {
   "cell_type": "code",
   "execution_count": 154,
   "metadata": {
    "scrolled": true
   },
   "outputs": [
    {
     "data": {
      "image/png": "[encoded data removed]",
      "text/plain": [
       "<Figure size 432x288 with 1 Axes>"
      ]
     },
     "metadata": {
      "needs_background": "light"
     },
     "output_type": "display_data"
    }
   ],
   "source": [
    "digit_image = testData[3]\n",
    "\n",
    "imgdata = np.array(digit_image, dtype='float')\n",
    "pixels = imgdata.reshape((8, 8))\n",
    "plt.imshow(pixels, cmap='gray')\n",
    "plt.show()"
   ]
  },
  {
   "cell_type": "markdown",
   "metadata": {},
   "source": [
    "As expected, the image above looks to be 7."
   ]
  },
  {
   "cell_type": "markdown",
   "metadata": {},
   "source": [
    "As we can see, given the solution in the first part of this homework, we now have the classes for all digit image in the dataset."
   ]
  },
  {
   "cell_type": "markdown",
   "metadata": {},
   "source": [
    "### 2.3. Find the digits using Decision tree."
   ]
  },
  {
   "cell_type": "markdown",
   "metadata": {},
   "source": [
    "Similarly, to find all digits using decision tree, I used the solution to problem 1.2 above."
   ]
  },
  {
   "cell_type": "code",
   "execution_count": 109,
   "metadata": {},
   "outputs": [],
   "source": [
    "for i in range(len(tree_predictions)):\n",
    "    if tree_predictions[i] == 1:\n",
    "        index_positions_for_one.append(i)\n",
    "    if tree_predictions[i] == 2:\n",
    "        index_positions_for_two.append(i)\n",
    "    if tree_predictions[i] == 3:\n",
    "        index_positions_for_three.append(i)\n",
    "    if tree_predictions[i] == 4:\n",
    "        index_positions_for_four.append(i)\n",
    "    if tree_predictions[i] == 5:\n",
    "        index_positions_for_five.append(i)\n",
    "    if tree_predictions[i] == 6:\n",
    "        index_positions_for_six.append(i)\n",
    "    if tree_predictions[i] == 7:\n",
    "        index_positions_for_seven.append(i)\n",
    "    if tree_predictions[i] == 8:\n",
    "        index_positions_for_eight.append(i)\n",
    "    if tree_predictions[i] == 9:\n",
    "        index_positions_for_nine.append(i)\n",
    "    if tree_predictions[i] == 0:\n",
    "        index_positions_for_zero.append(i)\n"
   ]
  },
  {
   "cell_type": "markdown",
   "metadata": {},
   "source": [
    "Let's try 5"
   ]
  },
  {
   "cell_type": "code",
   "execution_count": 110,
   "metadata": {
    "scrolled": true
   },
   "outputs": [
    {
     "name": "stdout",
     "output_type": "stream",
     "text": [
      "[6, 8, 24, 27, 49, 50, 53, 62, 65, 69, 71, 72, 77, 78, 94, 102, 106, 128, 131, 150, 165, 168, 187, 193, 200, 202, 209, 219, 225, 234, 241, 242, 244, 249, 269, 271, 281, 285, 286, 290, 295, 306, 308, 319, 330, 334, 339, 348, 359, 365, 373, 387, 408, 412, 418, 421, 430, 438, 441, 442, 449, 6, 8, 24, 27, 49, 50, 52, 53, 60, 62, 65, 69, 71, 72, 77, 78, 94, 102, 106, 128, 131, 149, 150, 165, 187, 193, 200, 202, 209, 219, 225, 234, 241, 242, 244, 269, 281, 286, 290, 295, 306, 308, 319, 330, 336, 348, 365, 373, 408, 412, 418, 421, 430, 438, 441, 442, 449, 6, 8, 24, 27, 49, 50, 52, 53, 60, 62, 65, 69, 71, 72, 77, 78, 94, 102, 106, 128, 131, 149, 150, 165, 187, 193, 200, 202, 209, 219, 225, 234, 241, 242, 244, 269, 281, 286, 290, 295, 306, 308, 319, 330, 336, 348, 365, 373, 408, 412, 418, 421, 430, 438, 441, 442, 449]\n"
     ]
    }
   ],
   "source": [
    "print(index_positions_for_five)"
   ]
  },
  {
   "cell_type": "code",
   "execution_count": 111,
   "metadata": {},
   "outputs": [
    {
     "data": {
      "image/png": "[encoded data removed]",
      "text/plain": [
       "<Figure size 432x288 with 1 Axes>"
      ]
     },
     "metadata": {
      "needs_background": "light"
     },
     "output_type": "display_data"
    }
   ],
   "source": [
    "digit_image = testData[6]\n",
    "\n",
    "imgdata = np.array(digit_image, dtype='float')\n",
    "pixels = imgdata.reshape((8, 8))\n",
    "plt.imshow(pixels, cmap='gray')\n",
    "plt.show()"
   ]
  },
  {
   "cell_type": "markdown",
   "metadata": {},
   "source": [
    "The image is a 5. This is correct."
   ]
  },
  {
   "cell_type": "markdown",
   "metadata": {},
   "source": [
    "### 2.4. Find the digits using Random Forests."
   ]
  },
  {
   "cell_type": "markdown",
   "metadata": {},
   "source": [
    "Using the similar approach in the previous steps."
   ]
  },
  {
   "cell_type": "code",
   "execution_count": 113,
   "metadata": {},
   "outputs": [],
   "source": [
    "for i in range(len(ran_forest_predictions)):\n",
    "    if ran_forest_predictions[i] == 1:\n",
    "        index_positions_for_one.append(i)\n",
    "    if ran_forest_predictions[i] == 2:\n",
    "        index_positions_for_two.append(i)\n",
    "    if ran_forest_predictions[i] == 3:\n",
    "        index_positions_for_three.append(i)\n",
    "    if ran_forest_predictions[i] == 4:\n",
    "        index_positions_for_four.append(i)\n",
    "    if ran_forest_predictions[i] == 5:\n",
    "        index_positions_for_five.append(i)\n",
    "    if ran_forest_predictions[i] == 6:\n",
    "        index_positions_for_six.append(i)\n",
    "    if ran_forest_predictions[i] == 7:\n",
    "        index_positions_for_seven.append(i)\n",
    "    if ran_forest_predictions[i] == 8:\n",
    "        index_positions_for_eight.append(i)\n",
    "    if ran_forest_predictions[i] == 9:\n",
    "        index_positions_for_nine.append(i)\n",
    "    if ran_forest_predictions[i] == 0:\n",
    "        index_positions_for_zero.append(i)"
   ]
  },
  {
   "cell_type": "code",
   "execution_count": 156,
   "metadata": {},
   "outputs": [
    {
     "name": "stdout",
     "output_type": "stream",
     "text": [
      "[13, 47, 55, 57, 58, 60, 67, 75, 81, 85, 97, 124, 134, 140, 148, 153, 163, 183, 217, 227, 261, 265, 267, 274, 277, 278, 294, 299, 307, 317, 325, 340, 343, 361, 362, 364, 366, 367, 388, 407, 417, 428, 439, 13, 47, 55, 57, 58, 67, 75, 81, 85, 124, 134, 140, 148, 153, 163, 183, 217, 256, 261, 265, 267, 274, 277, 294, 299, 307, 317, 325, 340, 343, 361, 362, 364, 366, 367, 388, 407, 417, 428, 439, 13, 47, 55, 57, 58, 67, 75, 81, 85, 124, 134, 140, 148, 153, 163, 183, 217, 256, 261, 265, 267, 274, 277, 294, 299, 307, 317, 325, 340, 343, 361, 362, 364, 366, 367, 388, 407, 417, 428, 439, 13, 47, 55, 57, 58, 60, 67, 75, 81, 85, 124, 134, 140, 148, 153, 163, 183, 217, 227, 261, 265, 267, 274, 277, 278, 294, 299, 307, 317, 325, 340, 343, 361, 362, 364, 366, 367, 388, 407, 417, 428, 439]\n"
     ]
    }
   ],
   "source": [
    "print(index_positions_for_zero)"
   ]
  },
  {
   "cell_type": "code",
   "execution_count": 115,
   "metadata": {},
   "outputs": [
    {
     "data": {
      "image/png": "[encoded data removed]",
      "text/plain": [
       "<Figure size 432x288 with 1 Axes>"
      ]
     },
     "metadata": {
      "needs_background": "light"
     },
     "output_type": "display_data"
    }
   ],
   "source": [
    "digit_image = testData[13]\n",
    "\n",
    "imgdata = np.array(digit_image, dtype='float')\n",
    "pixels = imgdata.reshape((8, 8))\n",
    "plt.imshow(pixels, cmap='gray')\n",
    "plt.show()"
   ]
  },
  {
   "cell_type": "markdown",
   "metadata": {},
   "source": [
    "Voila! The image is a zero.\n",
    "\n",
    "The same steps can be applied to find \"all\" the digits in the data set."
   ]
  },
  {
   "cell_type": "markdown",
   "metadata": {},
   "source": [
    "### 2.5. Comment on any significant difference between your results for the binary classifier vs. multi-class classifiers."
   ]
  },
  {
   "cell_type": "markdown",
   "metadata": {},
   "source": [
    "The difference between binary classification and multi-class classification, in this context, is supervised and unsupervised. In the first part of this homework we used supervised learning classification while the second is unsupervised, given that we had to cluster first to find patterns, then find labels for the given pattern.\n",
    "\n",
    "In binary classification the output is distinct. In our case the output is a distinct value labels from 0 to 9. In multiclass classification group instances into three or more labels. In part 2 of this exercise we reduced the multi-class classification (culstering) into binary classification by identifying labels of our clusters using SKLearns SVM library.\n",
    "\n",
    "The signicant results in comparing the binary classification steps in part 1 in comparison to the multi-class classification in part 2 is the accuracy. The accuracy of binary classification once we performed multi-class classification is much higher, 99% accuracy."
   ]
  },
  {
   "cell_type": "markdown",
   "metadata": {},
   "source": [
    "# REFERENCES"
   ]
  },
  {
   "cell_type": "markdown",
   "metadata": {},
   "source": [
    "[1] MNIST Database, http://yann.lecun.com/exdb/mnist/\n",
    "\n",
    "[2] Decision Tree Algorithm, https://en.wikipedia.org/wiki/Decision_tree\n",
    "\n",
    "[3] Random Forest Algorithm, https://en.wikipedia.org/wiki/Random_forest\n",
    "\n",
    "[4] SKLearn KNN Library, https://scikit-learn.org/stable/modules/generated/sklearn.neighbors.KNeighborsClassifier.html\n",
    "\n",
    "[5] SKLearn Decision Tree Library, https://scikit-learn.org/stable/modules/generated/sklearn.tree.DecisionTreeClassifier.html\n",
    "\n",
    "[6] SKLearn Random Forest Library, https://scikit-learn.org/stable/modules/generated/sklearn.ensemble.RandomForestClassifier.html\n",
    "\n",
    "[7] SKLearn KMeans Library, https://scikit-learn.org/stable/modules/generated/sklearn.cluster.KMeans.html\n",
    "\n",
    "[8] KMeans Clustering Tutorial, https://www.datacamp.com/community/tutorials/k-means-clustering-python\n",
    "\n",
    "[9] SKLearn Confusion Matrix, https://scikit-learn.org/stable/auto_examples/classification/plot_digits_classification.html#sphx-glr-auto-examples-classification-plot-digits-classification-py\n"
   ]
  },
  {
   "cell_type": "code",
   "execution_count": null,
   "metadata": {},
   "outputs": [],
   "source": []
  }
 ],
 "metadata": {
  "kernelspec": {
   "display_name": "Python 3",
   "language": "python",
   "name": "python3"
  },
  "language_info": {
   "codemirror_mode": {
    "name": "ipython",
    "version": 3
   },
   "file_extension": ".py",
   "mimetype": "text/x-python",
   "name": "python",
   "nbconvert_exporter": "python",
   "pygments_lexer": "ipython3",
   "version": "3.7.1"
  }
 },
 "nbformat": 4,
 "nbformat_minor": 2
}
