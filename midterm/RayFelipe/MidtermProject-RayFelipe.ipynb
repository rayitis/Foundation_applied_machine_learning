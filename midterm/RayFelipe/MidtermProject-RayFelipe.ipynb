{
 "cells": [
  {
   "cell_type": "markdown",
   "metadata": {},
   "source": [
    "# You've done a fantastic job! \n",
    "# Grade: 100/100\n",
    "### Just a few tips:\n",
    "1. You can use a very nice library for plotting the scatter plots when you have mutiple features and you want to visualize[seaborn](https://seaborn.pydata.org/examples/scatterplot_matrix.html)\n",
    "2. What you did in section 7 is not what exactly I had in my mind, I wanted you to change the \"hyperparameters\" in a particular learning algorthim for example the value of the K in KNN algorithm. However, what you did is basically feature bagging that we discussed in the Random forests and more generally is a way to reduce the chance of overfitting (bias). More generally you can reuse the data you have in order to have better understanding of the underlying biases by methods such as Bootstrapping, jackknifing and cross-validation. (What you did was more advanced than what I was asking you to do)\n",
    "\n",
    "<font size=6>Midterm Project</font><br>\n",
    "<font size=4>Professor Bahram Mobasher and Instructor Abtin Shahidi<font><br>\n",
    "<font size=3>Submitted by: Ray Felipe<font><br>\n",
    "<font size=3>University of California, Riverside<font>\n"
   ]
  },
  {
   "cell_type": "markdown",
   "metadata": {},
   "source": [
    "## Executive Summary"
   ]
  },
  {
   "cell_type": "markdown",
   "metadata": {},
   "source": [
    "Working on a Machine Learning project requires detailed understanding of the data set. This understanding must include not only the structure of the data but also the surface level meaning of what the data is telling us as well us it's underlying meaning.\n",
    "\n",
    "Given this understanding a developer or a stakeholder can then formulate goals on they want to learn from the data. This learning can be isolated in the data set itself, or for future unseen data, as in the case for machine learning objectives.\n",
    "\n",
    "In this project I have selected the winequality-red data set. A collection of wine data instances that has been classified by \"quality\" based on 11 features. The goal of this project is to apply statistical analysis as well as algorithm for machine learning analysis and processing. "
   ]
  },
  {
   "cell_type": "markdown",
   "metadata": {},
   "source": [
    "## 1. Understanding and explaining the data set."
   ]
  },
  {
   "cell_type": "markdown",
   "metadata": {},
   "source": [
    "Before we can apply machine learning analysis, it is important that we first create functions that will allow us to easily perform descriptive statistical analysis. Given that there are many ways a data can be viewed, a function will allow us to easily view these statistical definitions simply by plugging in target features for analysis.\n",
    "\n",
    "Along with initial housekeeping (package imports) the first step, of course, is to load the data."
   ]
  },
  {
   "cell_type": "code",
   "execution_count": 1,
   "metadata": {},
   "outputs": [],
   "source": [
    "import csv\n",
    "import matplotlib.pyplot as plt\n",
    "import numpy as np\n",
    "import pandas as pd\n",
    "import operator\n",
    "import os\n",
    "import scipy.stats\n",
    "from scipy.stats import norm\n",
    "from statistics import mean\n",
    "from sklearn.datasets import load_iris\n",
    "from sklearn.neighbors import KNeighborsClassifier\n",
    "from sklearn.model_selection import train_test_split\n",
    "from sklearn.linear_model import LinearRegression as lm\n",
    "from sklearn.linear_model import LogisticRegression\n",
    "from sklearn import metrics\n",
    "from functools import reduce\n",
    "\n",
    "desired_width=520\n",
    "np.set_printoptions(linewidth=desired_width)\n",
    "pd.set_option('display.width', desired_width)\n",
    "pd.set_option('display.max_columns', None)\n",
    "pd.set_option('display.max_rows', None)\n"
   ]
  },
  {
   "cell_type": "markdown",
   "metadata": {},
   "source": [
    "### 1.1 Load raw data"
   ]
  },
  {
   "cell_type": "code",
   "execution_count": 3,
   "metadata": {},
   "outputs": [],
   "source": [
    "filename = \"../data_sets/4_wine_quality/winequality-red.csv\"\n",
    "raw_data_file = open(filename, 'rt')\n",
    "reader = csv.reader(raw_data_file, delimiter=';', quoting=csv.QUOTE_NONE)\n",
    "raw_data = list(reader)\n",
    "raw_data_file.close()"
   ]
  },
  {
   "cell_type": "markdown",
   "metadata": {},
   "source": [
    "Load and process data features for basic statisitical analysis and general understanding"
   ]
  },
  {
   "cell_type": "code",
   "execution_count": 4,
   "metadata": {},
   "outputs": [
    {
     "name": "stdout",
     "output_type": "stream",
     "text": [
      "['\"fixed acidity\"', '\"volatile acidity\"', '\"citric acid\"', '\"residual sugar\"', '\"chlorides\"', '\"free sulfur dioxide\"', '\"total sulfur dioxide\"', '\"density\"', '\"pH\"', '\"sulphates\"', '\"alcohol\"', '\"quality\"']\n"
     ]
    }
   ],
   "source": [
    "# Show column headers (features)\n",
    "print(raw_data[0])"
   ]
  },
  {
   "cell_type": "markdown",
   "metadata": {},
   "source": [
    "Get data for each column"
   ]
  },
  {
   "cell_type": "code",
   "execution_count": 5,
   "metadata": {},
   "outputs": [],
   "source": [
    "def get_specific_col(col_name):\n",
    "    return_data = []\n",
    "    col_pos = 0\n",
    "    column_headers = raw_data[0]\n",
    "    raw_data_no_header = raw_data[1:len(raw_data)]\n",
    "    for k in range(len(column_headers)):\n",
    "        if column_headers[k].strip('\\\"') == col_name:\n",
    "            col_pos = k\n",
    "            break\n",
    "\n",
    "    for i in range(len(raw_data_no_header)):\n",
    "        return_data.append(float(raw_data_no_header[i][col_pos]))\n",
    "\n",
    "    return return_data"
   ]
  },
  {
   "cell_type": "markdown",
   "metadata": {},
   "source": [
    "The function above extracts the data under each column, which I have used to view stats for a given feature. In the next section below I used \"fixed acidity\" as an example."
   ]
  },
  {
   "cell_type": "markdown",
   "metadata": {},
   "source": [
    "### 1.2 Basic statistical info"
   ]
  },
  {
   "cell_type": "code",
   "execution_count": 6,
   "metadata": {},
   "outputs": [
    {
     "name": "stdout",
     "output_type": "stream",
     "text": [
      "Mean: 8.31963727329581\n",
      "Median: 7.9\n",
      "fixed_acidity, sorted: [ 4.6  4.7  4.9 ... 15.6 15.6 15.9]\n",
      "Max: 15.9\n",
      "Min: 4.6\n",
      "Std Deviation: 1.7410963181276953\n",
      "None\n"
     ]
    }
   ],
   "source": [
    "## Basic Statistical Info\n",
    "def view_data_stat_info(raw_data_feature_name):\n",
    "    raw_data_feature_list = get_specific_col(raw_data_feature_name)\n",
    "    print(\"Mean: \" + str(np.mean(raw_data_feature_list)))\n",
    "    print(\"Median: \" + str(np.median(raw_data_feature_list)))\n",
    "    print(\"fixed_acidity, sorted: \" + str(np.sort(raw_data_feature_list)))\n",
    "    print(\"Max: \" + str(np.max(raw_data_feature_list)))\n",
    "    print(\"Min: \" + str(np.min(raw_data_feature_list)))\n",
    "    print(\"Std Deviation: \" + str(np.std(raw_data_feature_list, ddof=1)))\n",
    "\n",
    "print(view_data_stat_info(\"fixed acidity\"))"
   ]
  },
  {
   "cell_type": "markdown",
   "metadata": {},
   "source": [
    "Another example; alcohol content. We simply change the <i>raw_data_feature_name</i> to \"alcohol\""
   ]
  },
  {
   "cell_type": "code",
   "execution_count": 7,
   "metadata": {},
   "outputs": [
    {
     "name": "stdout",
     "output_type": "stream",
     "text": [
      "Mean: 10.422983114446529\n",
      "Median: 10.2\n",
      "fixed_acidity, sorted: [ 8.4  8.4  8.5 ... 14.  14.  14.9]\n",
      "Max: 14.9\n",
      "Min: 8.4\n",
      "Std Deviation: 1.0656675818473946\n"
     ]
    }
   ],
   "source": [
    "def view_data_stat_info(raw_data_feature_name):\n",
    "    raw_data_feature_list = get_specific_col(raw_data_feature_name)\n",
    "    print(\"Mean: \" + str(np.mean(raw_data_feature_list)))\n",
    "    print(\"Median: \" + str(np.median(raw_data_feature_list)))\n",
    "    print(\"fixed_acidity, sorted: \" + str(np.sort(raw_data_feature_list)))\n",
    "    print(\"Max: \" + str(np.max(raw_data_feature_list)))\n",
    "    print(\"Min: \" + str(np.min(raw_data_feature_list)))\n",
    "    print(\"Std Deviation: \" + str(np.std(raw_data_feature_list, ddof=1)))\n",
    "\n",
    "view_data_stat_info(\"alcohol\")\n"
   ]
  },
  {
   "cell_type": "markdown",
   "metadata": {},
   "source": [
    "The basic statistical info above gives us important context on the data. For example, we know that the average alochol content of wine is 10, and that wines come in 15 alcohol content. We can further perform similar analysis where we identify the highest rated wine (a feature in the data called \"quality\") and it's alcohol or fixed acidity content.\n",
    "\n",
    "\n",
    "In addition, to better understand the data I created visualization plots."
   ]
  },
  {
   "cell_type": "markdown",
   "metadata": {},
   "source": [
    "### 1.3 Data Visualization"
   ]
  },
  {
   "cell_type": "markdown",
   "metadata": {},
   "source": [
    "Using Matplotlib, I created simple plots and graphs for visual understanding of the raw data. In the example below, I used \"citric acid\" feature."
   ]
  },
  {
   "cell_type": "code",
   "execution_count": 8,
   "metadata": {},
   "outputs": [
    {
     "data": {
      "text/plain": [
       "[<matplotlib.lines.Line2D at 0x7f7ad1ef9dd0>]"
      ]
     },
     "execution_count": 8,
     "metadata": {},
     "output_type": "execute_result"
    },
    {
     "data": {
      "image/png": "[encoded data removed]",
      "text/plain": [
       "<Figure size 432x288 with 1 Axes>"
      ]
     },
     "metadata": {
      "needs_background": "light"
     },
     "output_type": "display_data"
    }
   ],
   "source": [
    "target_data_feature = \"citric acid\"\n",
    "raw_data_feature_list = get_specific_col(target_data_feature)\n",
    "x_for_plot = np.arange(0, len(raw_data_feature_list))\n",
    "y_for_plot = np.sort(raw_data_feature_list)\n",
    "#print(raw_data_feature_list)\n",
    "#y_for_plot = raw_data_feature_list\n",
    "\n",
    "plt.title(\"Wine Feature Plot\")\n",
    "plt.xlabel(target_data_feature + \" instances\")\n",
    "plt.ylabel(target_data_feature)\n",
    "plt.plot(x_for_plot, y_for_plot)"
   ]
  },
  {
   "cell_type": "markdown",
   "metadata": {},
   "source": [
    "For additional reference, here's the unsorted plot data for alcohol content as well as the scatter plot."
   ]
  },
  {
   "cell_type": "code",
   "execution_count": 9,
   "metadata": {},
   "outputs": [
    {
     "data": {
      "text/plain": [
       "[<matplotlib.lines.Line2D at 0x7f7ad1fe6950>]"
      ]
     },
     "execution_count": 9,
     "metadata": {},
     "output_type": "execute_result"
    },
    {
     "data": {
      "image/png": "[encoded data removed]",
      "text/plain": [
       "<Figure size 432x288 with 1 Axes>"
      ]
     },
     "metadata": {
      "needs_background": "light"
     },
     "output_type": "display_data"
    }
   ],
   "source": [
    "target_data_feature = \"alcohol\"\n",
    "raw_data_feature_list = get_specific_col(target_data_feature)\n",
    "x_for_plot = np.arange(0, len(raw_data_feature_list))\n",
    "y_for_plot = raw_data_feature_list\n",
    "\n",
    "plt.title(\"Wine Feature Plot\")\n",
    "plt.xlabel(target_data_feature + \" instances\")\n",
    "plt.ylabel(target_data_feature)\n",
    "plt.plot(x_for_plot, y_for_plot)"
   ]
  },
  {
   "cell_type": "code",
   "execution_count": 10,
   "metadata": {},
   "outputs": [
    {
     "data": {
      "text/plain": [
       "<matplotlib.collections.PathCollection at 0x7f7ad1c00f50>"
      ]
     },
     "execution_count": 10,
     "metadata": {},
     "output_type": "execute_result"
    },
    {
     "data": {
      "image/png": "[encoded data removed]",
      "text/plain": [
       "<Figure size 432x288 with 1 Axes>"
      ]
     },
     "metadata": {
      "needs_background": "light"
     },
     "output_type": "display_data"
    }
   ],
   "source": [
    "plt.scatter(x_for_plot, y_for_plot)"
   ]
  },
  {
   "cell_type": "code",
   "execution_count": 11,
   "metadata": {},
   "outputs": [
    {
     "data": {
      "text/plain": [
       "(array([ 37., 515., 323., 257., 232., 119.,  87.,  21.,   7.,   1.]),\n",
       " array([ 8.4 ,  9.05,  9.7 , 10.35, 11.  , 11.65, 12.3 , 12.95, 13.6 , 14.25, 14.9 ]),\n",
       " <a list of 10 Patch objects>)"
      ]
     },
     "execution_count": 11,
     "metadata": {},
     "output_type": "execute_result"
    },
    {
     "data": {
      "image/png": "[encoded data removed]",
      "text/plain": [
       "<Figure size 432x288 with 1 Axes>"
      ]
     },
     "metadata": {
      "needs_background": "light"
     },
     "output_type": "display_data"
    }
   ],
   "source": [
    "plt.title(\"Wine Data Histogram\")\n",
    "plt.xlabel(target_data_feature)\n",
    "plt.ylabel(\"Occurrences\")\n",
    "plt.hist(raw_data_feature_list, bins=10)"
   ]
  },
  {
   "cell_type": "markdown",
   "metadata": {},
   "source": [
    "Also important to visualization is the PDF (Probability Distribution Function)[1]"
   ]
  },
  {
   "cell_type": "code",
   "execution_count": 12,
   "metadata": {},
   "outputs": [
    {
     "data": {
      "text/plain": [
       "Text(0, 0.5, 'Distribution')"
      ]
     },
     "execution_count": 12,
     "metadata": {},
     "output_type": "execute_result"
    },
    {
     "data": {
      "image/png": "[encoded data removed]",
      "text/plain": [
       "<Figure size 432x288 with 1 Axes>"
      ]
     },
     "metadata": {
      "needs_background": "light"
     },
     "output_type": "display_data"
    }
   ],
   "source": [
    "x_min = np.min(raw_data_feature_list)\n",
    "x_max = np.max(raw_data_feature_list)\n",
    "\n",
    "mean = np.average(raw_data_feature_list)\n",
    "std = np.std(raw_data_feature_list)\n",
    "x = np.linspace(x_min, x_max, 100)\n",
    "y = scipy.stats.norm.pdf(x, mean, std)\n",
    "plt.plot(x, y)\n",
    "plt.grid()\n",
    "plt.xlim(x_min, x_max)\n",
    "plt.ylim(0, .5)\n",
    "plt.title('Distribution of Data', fontsize=10)\n",
    "plt.xlabel(target_data_feature)\n",
    "plt.ylabel('Distribution')"
   ]
  },
  {
   "cell_type": "markdown",
   "metadata": {},
   "source": [
    "The visualization graphs above helps in understanding the data. In the distribution graph above, we can tell that the probability of a given wine instance would have a 28 to 38% probability of having 9.5 to 11.5 alcohol content.\n"
   ]
  },
  {
   "cell_type": "markdown",
   "metadata": {},
   "source": [
    "## 2. Processing data, cleaning up."
   ]
  },
  {
   "cell_type": "markdown",
   "metadata": {},
   "source": [
    "So far I've been working on the raw data, which is messy. It has quotes which can potentially cause problems when loading, parsing, and analyzing the data. Quotes or any other unwanted characters can cause issues in programming languages in general. This is also true for Python. \n",
    "\n",
    "This section focuses on cleaning up the data and performing data processing."
   ]
  },
  {
   "cell_type": "markdown",
   "metadata": {},
   "source": [
    "### 2.1 Data cleansing"
   ]
  },
  {
   "cell_type": "code",
   "execution_count": 13,
   "metadata": {},
   "outputs": [],
   "source": [
    "filename = \"wine-comma.csv\"\n",
    "if os.path.isfile(filename) == True:\n",
    "    os.remove(filename)\n",
    "    \n",
    "for i in range(len(raw_data)):\n",
    "    temp_str = str(raw_data[i])\n",
    "    #print(\"temp str:\" + temp_str)\n",
    "    data_csv = temp_str.replace(\";\", \",\")\n",
    "    data_csv = data_csv.replace(\"\\\"\", \"\")\n",
    "    data_csv = data_csv.replace(\"\\'\", \"\")\n",
    "    data_csv = data_csv.replace(\"[\", \"\")\n",
    "    data_csv = data_csv.replace(\"]\", \"\")\n",
    "    data_csv = data_csv.replace(\" \", \"\")\n",
    "    #print(data_csv)\n",
    "    file = open(filename, 'a')\n",
    "    file.write(data_csv+\"\\n\")\n",
    "    file.close()\n",
    "\n",
    "raw_data_clean = open(filename, 'rt')\n",
    "reader = csv.reader(raw_data_clean, delimiter=',', quoting=csv.QUOTE_NONE)\n",
    "data_clean = list(reader)\n",
    "raw_data_clean.close()"
   ]
  },
  {
   "cell_type": "markdown",
   "metadata": {},
   "source": [
    "The first 10 rows of the cleaned data is shown below."
   ]
  },
  {
   "cell_type": "code",
   "execution_count": 14,
   "metadata": {},
   "outputs": [
    {
     "name": "stdout",
     "output_type": "stream",
     "text": [
      "[['7.4', '0.7', '0', '1.9', '0.076', '11', '34', '0.9978', '3.51', '0.56', '9.4', '5'], ['7.8', '0.88', '0', '2.6', '0.098', '25', '67', '0.9968', '3.2', '0.68', '9.8', '5'], ['7.8', '0.76', '0.04', '2.3', '0.092', '15', '54', '0.997', '3.26', '0.65', '9.8', '5'], ['11.2', '0.28', '0.56', '1.9', '0.075', '17', '60', '0.998', '3.16', '0.58', '9.8', '6'], ['7.4', '0.7', '0', '1.9', '0.076', '11', '34', '0.9978', '3.51', '0.56', '9.4', '5'], ['7.4', '0.66', '0', '1.8', '0.075', '13', '40', '0.9978', '3.51', '0.56', '9.4', '5'], ['7.9', '0.6', '0.06', '1.6', '0.069', '15', '59', '0.9964', '3.3', '0.46', '9.4', '5'], ['7.3', '0.65', '0', '1.2', '0.065', '15', '21', '0.9946', '3.39', '0.47', '10', '7'], ['7.8', '0.58', '0.02', '2', '0.073', '9', '18', '0.9968', '3.36', '0.57', '9.5', '7']]\n"
     ]
    }
   ],
   "source": [
    "print(data_clean[1:10])"
   ]
  },
  {
   "cell_type": "markdown",
   "metadata": {},
   "source": [
    "The step above removed all quotes and double-quotes, and also the spaces in the features.  <i>Note: Eventhough the output above is showing single quotes, the saved output file does not have them.</i>\n",
    "\n",
    "For easier processing, I loaded the newly cleaned data, <i>wine-comma.csv</i>, in a Pandas Dataframe."
   ]
  },
  {
   "cell_type": "markdown",
   "metadata": {},
   "source": [
    "### 2.2 Dataframe for processing"
   ]
  },
  {
   "cell_type": "markdown",
   "metadata": {},
   "source": [
    "DataFrame provides libraries of tools that allows easier processing of data. The output below shows that the data is now loaded in a nicely organized data structure."
   ]
  },
  {
   "cell_type": "code",
   "execution_count": 15,
   "metadata": {},
   "outputs": [
    {
     "data": {
      "text/html": [
       "<div>\n",
       "<style scoped>\n",
       "    .dataframe tbody tr th:only-of-type {\n",
       "        vertical-align: middle;\n",
       "    }\n",
       "\n",
       "    .dataframe tbody tr th {\n",
       "        vertical-align: top;\n",
       "    }\n",
       "\n",
       "    .dataframe thead th {\n",
       "        text-align: right;\n",
       "    }\n",
       "</style>\n",
       "<table border=\"1\" class=\"dataframe\">\n",
       "  <thead>\n",
       "    <tr style=\"text-align: right;\">\n",
       "      <th></th>\n",
       "      <th>fixedacidity</th>\n",
       "      <th>volatileacidity</th>\n",
       "      <th>citricacid</th>\n",
       "      <th>residualsugar</th>\n",
       "      <th>chlorides</th>\n",
       "      <th>freesulfurdioxide</th>\n",
       "      <th>totalsulfurdioxide</th>\n",
       "      <th>density</th>\n",
       "      <th>pH</th>\n",
       "      <th>sulphates</th>\n",
       "      <th>alcohol</th>\n",
       "      <th>quality</th>\n",
       "    </tr>\n",
       "  </thead>\n",
       "  <tbody>\n",
       "    <tr>\n",
       "      <th>0</th>\n",
       "      <td>7.4</td>\n",
       "      <td>0.70</td>\n",
       "      <td>0.00</td>\n",
       "      <td>1.9</td>\n",
       "      <td>0.076</td>\n",
       "      <td>11.0</td>\n",
       "      <td>34.0</td>\n",
       "      <td>0.9978</td>\n",
       "      <td>3.51</td>\n",
       "      <td>0.56</td>\n",
       "      <td>9.4</td>\n",
       "      <td>5</td>\n",
       "    </tr>\n",
       "    <tr>\n",
       "      <th>1</th>\n",
       "      <td>7.8</td>\n",
       "      <td>0.88</td>\n",
       "      <td>0.00</td>\n",
       "      <td>2.6</td>\n",
       "      <td>0.098</td>\n",
       "      <td>25.0</td>\n",
       "      <td>67.0</td>\n",
       "      <td>0.9968</td>\n",
       "      <td>3.20</td>\n",
       "      <td>0.68</td>\n",
       "      <td>9.8</td>\n",
       "      <td>5</td>\n",
       "    </tr>\n",
       "    <tr>\n",
       "      <th>2</th>\n",
       "      <td>7.8</td>\n",
       "      <td>0.76</td>\n",
       "      <td>0.04</td>\n",
       "      <td>2.3</td>\n",
       "      <td>0.092</td>\n",
       "      <td>15.0</td>\n",
       "      <td>54.0</td>\n",
       "      <td>0.9970</td>\n",
       "      <td>3.26</td>\n",
       "      <td>0.65</td>\n",
       "      <td>9.8</td>\n",
       "      <td>5</td>\n",
       "    </tr>\n",
       "    <tr>\n",
       "      <th>3</th>\n",
       "      <td>11.2</td>\n",
       "      <td>0.28</td>\n",
       "      <td>0.56</td>\n",
       "      <td>1.9</td>\n",
       "      <td>0.075</td>\n",
       "      <td>17.0</td>\n",
       "      <td>60.0</td>\n",
       "      <td>0.9980</td>\n",
       "      <td>3.16</td>\n",
       "      <td>0.58</td>\n",
       "      <td>9.8</td>\n",
       "      <td>6</td>\n",
       "    </tr>\n",
       "    <tr>\n",
       "      <th>4</th>\n",
       "      <td>7.4</td>\n",
       "      <td>0.70</td>\n",
       "      <td>0.00</td>\n",
       "      <td>1.9</td>\n",
       "      <td>0.076</td>\n",
       "      <td>11.0</td>\n",
       "      <td>34.0</td>\n",
       "      <td>0.9978</td>\n",
       "      <td>3.51</td>\n",
       "      <td>0.56</td>\n",
       "      <td>9.4</td>\n",
       "      <td>5</td>\n",
       "    </tr>\n",
       "  </tbody>\n",
       "</table>\n",
       "</div>"
      ],
      "text/plain": [
       "   fixedacidity  volatileacidity  citricacid  residualsugar  chlorides  freesulfurdioxide  totalsulfurdioxide  density    pH  sulphates  alcohol  quality\n",
       "0           7.4             0.70        0.00            1.9      0.076               11.0                34.0   0.9978  3.51       0.56      9.4        5\n",
       "1           7.8             0.88        0.00            2.6      0.098               25.0                67.0   0.9968  3.20       0.68      9.8        5\n",
       "2           7.8             0.76        0.04            2.3      0.092               15.0                54.0   0.9970  3.26       0.65      9.8        5\n",
       "3          11.2             0.28        0.56            1.9      0.075               17.0                60.0   0.9980  3.16       0.58      9.8        6\n",
       "4           7.4             0.70        0.00            1.9      0.076               11.0                34.0   0.9978  3.51       0.56      9.4        5"
      ]
     },
     "execution_count": 15,
     "metadata": {},
     "output_type": "execute_result"
    }
   ],
   "source": [
    "data_pd = pd.read_csv('wine-comma.csv')\n",
    "data_pd.head()"
   ]
  },
  {
   "cell_type": "markdown",
   "metadata": {},
   "source": [
    "## 3. Dividing your data into a training and test set."
   ]
  },
  {
   "cell_type": "markdown",
   "metadata": {},
   "source": [
    "Now let's identify features to predict labels. In this case, let's try \"Quality\". Knowing the target label we can start the process of splitting the data into training and test set."
   ]
  },
  {
   "cell_type": "markdown",
   "metadata": {},
   "source": [
    "### 3.1 Identify features to predict labels."
   ]
  },
  {
   "cell_type": "markdown",
   "metadata": {},
   "source": [
    "Let's identify features to predict labels[2]. In this case. Let's try \"quality\"."
   ]
  },
  {
   "cell_type": "code",
   "execution_count": 16,
   "metadata": {},
   "outputs": [],
   "source": [
    "target_feature = \"quality\"  # The feature to be predicted\n",
    "\n",
    "data_pd_y = data_pd[target_feature]\n",
    "data_pd_x = data_pd.drop(target_feature, axis=1)"
   ]
  },
  {
   "cell_type": "markdown",
   "metadata": {},
   "source": [
    "### 3.2 Split into train and test set"
   ]
  },
  {
   "cell_type": "code",
   "execution_count": 17,
   "metadata": {},
   "outputs": [],
   "source": [
    "x_train, x_test, y_train, y_test = train_test_split(data_pd_x, data_pd_y, train_size=0.80, test_size=0.20)"
   ]
  },
  {
   "cell_type": "markdown",
   "metadata": {},
   "source": [
    "Above I used \"quality\" feature as the target label for prediction and ran the <i>drop()</i> function to take it out of the rest the dataset. Afterwards, I used <i>train_test_split()</i> function to split the data. The train size is 80% and the test size is 20%[3]."
   ]
  },
  {
   "cell_type": "code",
   "execution_count": 18,
   "metadata": {},
   "outputs": [
    {
     "data": {
      "text/plain": [
       "(1279, 11)"
      ]
     },
     "execution_count": 18,
     "metadata": {},
     "output_type": "execute_result"
    }
   ],
   "source": [
    "x_train.shape"
   ]
  },
  {
   "cell_type": "code",
   "execution_count": 19,
   "metadata": {},
   "outputs": [
    {
     "data": {
      "text/html": [
       "<div>\n",
       "<style scoped>\n",
       "    .dataframe tbody tr th:only-of-type {\n",
       "        vertical-align: middle;\n",
       "    }\n",
       "\n",
       "    .dataframe tbody tr th {\n",
       "        vertical-align: top;\n",
       "    }\n",
       "\n",
       "    .dataframe thead th {\n",
       "        text-align: right;\n",
       "    }\n",
       "</style>\n",
       "<table border=\"1\" class=\"dataframe\">\n",
       "  <thead>\n",
       "    <tr style=\"text-align: right;\">\n",
       "      <th></th>\n",
       "      <th>fixedacidity</th>\n",
       "      <th>volatileacidity</th>\n",
       "      <th>citricacid</th>\n",
       "      <th>residualsugar</th>\n",
       "      <th>chlorides</th>\n",
       "      <th>freesulfurdioxide</th>\n",
       "      <th>totalsulfurdioxide</th>\n",
       "      <th>density</th>\n",
       "      <th>pH</th>\n",
       "      <th>sulphates</th>\n",
       "      <th>alcohol</th>\n",
       "    </tr>\n",
       "  </thead>\n",
       "  <tbody>\n",
       "    <tr>\n",
       "      <th>320</th>\n",
       "      <td>9.8</td>\n",
       "      <td>0.660</td>\n",
       "      <td>0.39</td>\n",
       "      <td>3.2</td>\n",
       "      <td>0.083</td>\n",
       "      <td>21.0</td>\n",
       "      <td>59.0</td>\n",
       "      <td>0.99890</td>\n",
       "      <td>3.37</td>\n",
       "      <td>0.71</td>\n",
       "      <td>11.5</td>\n",
       "    </tr>\n",
       "    <tr>\n",
       "      <th>188</th>\n",
       "      <td>7.9</td>\n",
       "      <td>0.500</td>\n",
       "      <td>0.33</td>\n",
       "      <td>2.0</td>\n",
       "      <td>0.084</td>\n",
       "      <td>15.0</td>\n",
       "      <td>143.0</td>\n",
       "      <td>0.99680</td>\n",
       "      <td>3.20</td>\n",
       "      <td>0.55</td>\n",
       "      <td>9.5</td>\n",
       "    </tr>\n",
       "    <tr>\n",
       "      <th>987</th>\n",
       "      <td>7.1</td>\n",
       "      <td>0.360</td>\n",
       "      <td>0.30</td>\n",
       "      <td>1.6</td>\n",
       "      <td>0.080</td>\n",
       "      <td>35.0</td>\n",
       "      <td>70.0</td>\n",
       "      <td>0.99693</td>\n",
       "      <td>3.44</td>\n",
       "      <td>0.50</td>\n",
       "      <td>9.4</td>\n",
       "    </tr>\n",
       "    <tr>\n",
       "      <th>25</th>\n",
       "      <td>6.3</td>\n",
       "      <td>0.390</td>\n",
       "      <td>0.16</td>\n",
       "      <td>1.4</td>\n",
       "      <td>0.080</td>\n",
       "      <td>11.0</td>\n",
       "      <td>23.0</td>\n",
       "      <td>0.99550</td>\n",
       "      <td>3.34</td>\n",
       "      <td>0.56</td>\n",
       "      <td>9.3</td>\n",
       "    </tr>\n",
       "    <tr>\n",
       "      <th>490</th>\n",
       "      <td>9.3</td>\n",
       "      <td>0.775</td>\n",
       "      <td>0.27</td>\n",
       "      <td>2.8</td>\n",
       "      <td>0.078</td>\n",
       "      <td>24.0</td>\n",
       "      <td>56.0</td>\n",
       "      <td>0.99840</td>\n",
       "      <td>3.31</td>\n",
       "      <td>0.67</td>\n",
       "      <td>10.6</td>\n",
       "    </tr>\n",
       "  </tbody>\n",
       "</table>\n",
       "</div>"
      ],
      "text/plain": [
       "     fixedacidity  volatileacidity  citricacid  residualsugar  chlorides  freesulfurdioxide  totalsulfurdioxide  density    pH  sulphates  alcohol\n",
       "320           9.8            0.660        0.39            3.2      0.083               21.0                59.0  0.99890  3.37       0.71     11.5\n",
       "188           7.9            0.500        0.33            2.0      0.084               15.0               143.0  0.99680  3.20       0.55      9.5\n",
       "987           7.1            0.360        0.30            1.6      0.080               35.0                70.0  0.99693  3.44       0.50      9.4\n",
       "25            6.3            0.390        0.16            1.4      0.080               11.0                23.0  0.99550  3.34       0.56      9.3\n",
       "490           9.3            0.775        0.27            2.8      0.078               24.0                56.0  0.99840  3.31       0.67     10.6"
      ]
     },
     "execution_count": 19,
     "metadata": {},
     "output_type": "execute_result"
    }
   ],
   "source": [
    "x_test.head()"
   ]
  },
  {
   "cell_type": "code",
   "execution_count": 20,
   "metadata": {},
   "outputs": [
    {
     "data": {
      "text/plain": [
       "(320, 11)"
      ]
     },
     "execution_count": 20,
     "metadata": {},
     "output_type": "execute_result"
    }
   ],
   "source": [
    "x_test.shape"
   ]
  },
  {
   "cell_type": "code",
   "execution_count": 21,
   "metadata": {},
   "outputs": [
    {
     "data": {
      "text/plain": [
       "836     7\n",
       "572     5\n",
       "93      5\n",
       "548     6\n",
       "1174    6\n",
       "Name: quality, dtype: int64"
      ]
     },
     "execution_count": 21,
     "metadata": {},
     "output_type": "execute_result"
    }
   ],
   "source": [
    "y_train.head()"
   ]
  },
  {
   "cell_type": "code",
   "execution_count": 22,
   "metadata": {},
   "outputs": [
    {
     "data": {
      "text/plain": [
       "(1279,)"
      ]
     },
     "execution_count": 22,
     "metadata": {},
     "output_type": "execute_result"
    }
   ],
   "source": [
    "y_train.shape"
   ]
  },
  {
   "cell_type": "code",
   "execution_count": 23,
   "metadata": {},
   "outputs": [
    {
     "data": {
      "text/plain": [
       "320    7\n",
       "188    5\n",
       "987    5\n",
       "25     5\n",
       "490    6\n",
       "Name: quality, dtype: int64"
      ]
     },
     "execution_count": 23,
     "metadata": {},
     "output_type": "execute_result"
    }
   ],
   "source": [
    "y_test.head()"
   ]
  },
  {
   "cell_type": "code",
   "execution_count": 24,
   "metadata": {},
   "outputs": [
    {
     "data": {
      "text/plain": [
       "(320,)"
      ]
     },
     "execution_count": 24,
     "metadata": {},
     "output_type": "execute_result"
    }
   ],
   "source": [
    "y_test.shape"
   ]
  },
  {
   "cell_type": "markdown",
   "metadata": {},
   "source": [
    "## 4. Choosing the relevant algorithm."
   ]
  },
  {
   "cell_type": "markdown",
   "metadata": {},
   "source": [
    "The choose the right algorithm for a machine learning project a goal must be defined first. Are we trying to classify our data? Are we trying to find patterns? Are we looking into grouping them into clusters? In each case there are machine learning algorithms for these; classification algorithms, frequent pattern algorithms, clustering algorithms, respectively.\n",
    "\n",
    "In this project our goal is classify data by quality and be able to predict future (unseen) data on what would be rated as high quality. This dovetails into the first section of this project - understanding our data. Note that \"quality\" is the last data feature in our data set.\n",
    "\n",
    "I used KNN to predict the quality of the wine based on existing parameters. \n"
   ]
  },
  {
   "cell_type": "markdown",
   "metadata": {},
   "source": [
    "## 5. Writing a python code to perform learning. (You can reuse every code from the lectures)\n"
   ]
  },
  {
   "cell_type": "markdown",
   "metadata": {},
   "source": [
    "KNN algorithm is a lazy learning algorithm, which means that it does not created a decision structure as in Decision Tree algorithm training. Instead, it predicts the outcome based on a voting step in the algorithm, with the highest vote (the nearest neighbor) determing the target feature. In this case, our target feature is <i>quality</i>."
   ]
  },
  {
   "cell_type": "markdown",
   "metadata": {},
   "source": [
    "### 5.1 KNN Classification"
   ]
  },
  {
   "cell_type": "code",
   "execution_count": 25,
   "metadata": {},
   "outputs": [],
   "source": [
    "def knn_lib_fit(x_train, y_train):\n",
    "    knn_x = x_train\n",
    "    knn_y = y_train\n",
    "    knn = KNeighborsClassifier(n_neighbors=3)\n",
    "    try:\n",
    "        knn.fit(knn_x, knn_y)\n",
    "    except Exception as error:\n",
    "        print('Error: ' + repr(error))\n",
    "        if repr(error) == \"ValueError(\\\"Unknown label type: 'continuous'\\\")\":\n",
    "            print(\"erropr here ==================\")\n",
    "            knn_y = knn_y.apply(lambda x: int(x * 100000))\n",
    "            knn.fit(knn_x, knn_y)\n",
    "\n",
    "    y_pred_knn = knn.predict(knn_x)\n",
    "    return y_pred_knn"
   ]
  },
  {
   "cell_type": "markdown",
   "metadata": {},
   "source": [
    "In the function above I used SKlearn's <i>KNeighborsClassifier()</i> function. This is why I called it knn_lib_fit, with lib indicating library. Later on I created a KNN algorithm, for extra credit, without using any libraries."
   ]
  },
  {
   "cell_type": "code",
   "execution_count": 26,
   "metadata": {},
   "outputs": [
    {
     "name": "stdout",
     "output_type": "stream",
     "text": [
      "KNN Lib Fit Prediction:\n"
     ]
    },
    {
     "data": {
      "text/plain": [
       "array([7, 5, 5, ..., 5, 6, 6])"
      ]
     },
     "execution_count": 26,
     "metadata": {},
     "output_type": "execute_result"
    }
   ],
   "source": [
    "print(\"KNN Lib Fit Prediction:\")\n",
    "knn_lib_prediction = knn_lib_fit(x_train, y_train)\n",
    "knn_lib_prediction\n",
    "#print(\"knn_lib_prediction: \" + str(knn_lib_prediction))"
   ]
  },
  {
   "cell_type": "markdown",
   "metadata": {},
   "source": [
    "Running the knn_lib_fit gives us the prediction output above. In the next section we'll assess the accuracy of this prediction."
   ]
  },
  {
   "cell_type": "markdown",
   "metadata": {},
   "source": [
    "### 5.2 Logistic Regression"
   ]
  },
  {
   "cell_type": "markdown",
   "metadata": {},
   "source": [
    "In addition to KNN, I also used logistic regression. Similarly, I used SKLearn's regression library for this step."
   ]
  },
  {
   "cell_type": "code",
   "execution_count": 27,
   "metadata": {},
   "outputs": [],
   "source": [
    "# Log Regression fit\n",
    "def log_reg_fit(x_train, y_train):\n",
    "    log_reg_x = x_train\n",
    "    log_reg_y = y_train\n",
    "    logreg = LogisticRegression(solver='liblinear', multi_class='auto')\n",
    "    try:\n",
    "        logreg.fit(log_reg_x, log_reg_y)\n",
    "        #y_pred_log_reg = logreg.predict(log_reg_x)\n",
    "    except Exception as error:\n",
    "        if repr(error) == \"ValueError(\\\"Unknown label type: 'continuous'\\\")\":\n",
    "            # It is float column. So convert.\n",
    "            log_reg_y = log_reg_y.apply(lambda x: int(x * 100000))\n",
    "            #print(log_reg_y)\n",
    "            #print('Error: ' + repr(error))\n",
    "            logreg.fit(log_reg_x, log_reg_y)\n",
    "\n",
    "    y_pred_log_reg = logreg.predict(log_reg_x)\n",
    "    return y_pred_log_reg"
   ]
  },
  {
   "cell_type": "code",
   "execution_count": 28,
   "metadata": {},
   "outputs": [
    {
     "name": "stdout",
     "output_type": "stream",
     "text": [
      "log_reg_fit prediction:\n"
     ]
    },
    {
     "data": {
      "text/plain": [
       "array([6, 6, 5, ..., 6, 5, 5])"
      ]
     },
     "execution_count": 28,
     "metadata": {},
     "output_type": "execute_result"
    }
   ],
   "source": [
    "print(\"log_reg_fit prediction:\")\n",
    "log_reg_fit(x_train, y_train)"
   ]
  },
  {
   "cell_type": "markdown",
   "metadata": {},
   "source": [
    "In the step below I created a plot to see the predictions as it relates to the test data."
   ]
  },
  {
   "cell_type": "code",
   "execution_count": 29,
   "metadata": {
    "scrolled": true
   },
   "outputs": [
    {
     "data": {
      "text/plain": [
       "Text(0, 0.5, 'Predictions')"
      ]
     },
     "execution_count": 29,
     "metadata": {},
     "output_type": "execute_result"
    },
    {
     "data": {
      "image/png": "[encoded data removed]",
      "text/plain": [
       "<Figure size 432x288 with 1 Axes>"
      ]
     },
     "metadata": {
      "needs_background": "light"
     },
     "output_type": "display_data"
    }
   ],
   "source": [
    "model = lm().fit(x_train, y_train)\n",
    "predictions = model.predict(x_test)\n",
    "plt.scatter(y_test, predictions)\n",
    "plt.xlabel('True values')\n",
    "plt.ylabel('Predictions')"
   ]
  },
  {
   "cell_type": "markdown",
   "metadata": {},
   "source": [
    "Based on the predicted outcome and test data prior, we can see from the above graph the predicted values and the true values."
   ]
  },
  {
   "cell_type": "markdown",
   "metadata": {},
   "source": [
    "Let's create our data list for learning, specifically classifiction using KNN algorithm without using packaged libraries."
   ]
  },
  {
   "cell_type": "markdown",
   "metadata": {},
   "source": [
    "### 5.3 KNN Classification without using packaged libraries (<i>for extra credit</i>)"
   ]
  },
  {
   "cell_type": "markdown",
   "metadata": {},
   "source": [
    "KNN Classification uses a fairly straightforward approach to classification. Key to this algorithm is the distance measure between variables, which is what will derive the nearest neighbor a given data instance for classification. In the following steps, I created KNN algorithm using Numpy for computing the distance measures.\n",
    "\n",
    "But first, the data set must be created for the KNN function[4]."
   ]
  },
  {
   "cell_type": "code",
   "execution_count": 30,
   "metadata": {},
   "outputs": [],
   "source": [
    "# KNN without using libraries\n",
    "def createDataSet(target_feature_to_create_dataset, source_features_list):\n",
    "    labels = data_pd[target_feature_to_create_dataset]\n",
    "    # labels = data_pd_y.values.tolist() #This is the list of target feature. ex. Quality.\n",
    "    group = []  # This will be the features selected.\n",
    "    for i in range(len(data_pd)):\n",
    "        wine_selected_features_row = []\n",
    "\n",
    "        for j in range(len(source_features_list)):\n",
    "            wine_selected_features_row.append(data_pd[source_features_list[j]].values.tolist()[i])\n",
    "\n",
    "        group.append(wine_selected_features_row)\n",
    "    return group, labels\n"
   ]
  },
  {
   "cell_type": "markdown",
   "metadata": {},
   "source": [
    "The function above creates a list of groups and labels, with groups having a pair of feature for classification - the <i>labels</i> variable."
   ]
  },
  {
   "cell_type": "code",
   "execution_count": 31,
   "metadata": {},
   "outputs": [],
   "source": [
    "def knn_classifier_no_lib(inX, dataSet, labels, k):\n",
    "    dataSetSize = len(dataSet)\n",
    "    diffMat = np.tile(inX, (dataSetSize, 1)) - dataSet\n",
    "    sqDiffMat = diffMat**2\n",
    "    sqDistances = sqDiffMat.sum(axis=1)\n",
    "    distances = sqDistances**0.5\n",
    "    sortedDistIndicies = distances.argsort()\n",
    "    classCount = {}\n",
    "    for i in range(k):\n",
    "        voteIlabel = labels[sortedDistIndicies[i]]\n",
    "        classCount[voteIlabel] = classCount.get(voteIlabel,0) + 1\n",
    "    sortedClassCount = sorted(classCount.items(), key=operator.itemgetter(1), reverse=True)\n",
    "    return sortedClassCount[0][0]"
   ]
  },
  {
   "cell_type": "markdown",
   "metadata": {},
   "source": [
    "The knn_classifier_no_lib() function calculates the distances using several computations, with the <i>distances</i> list containing the distances for each data instance.\n",
    "\n",
    "Let's now run the function with \"quality\" as the target feature."
   ]
  },
  {
   "cell_type": "code",
   "execution_count": 32,
   "metadata": {},
   "outputs": [],
   "source": [
    "source_features_list_for_create_dataset = [\"fixedacidity\", \"volatileacidity\", \"alcohol\"]\n",
    "group, labels = createDataSet(\"quality\", source_features_list_for_create_dataset)"
   ]
  },
  {
   "cell_type": "code",
   "execution_count": 33,
   "metadata": {},
   "outputs": [
    {
     "data": {
      "text/plain": [
       "6"
      ]
     },
     "execution_count": 33,
     "metadata": {},
     "output_type": "execute_result"
    }
   ],
   "source": [
    "knn_no_lib_prediction = knn_classifier_no_lib([11.2, 0.28, 9.8], group, labels, 3)\n",
    "knn_no_lib_prediction"
   ]
  },
  {
   "cell_type": "markdown",
   "metadata": {},
   "source": [
    "The result is 6.\n",
    "\n",
    "To recap: The values 11.2, 0.28, 9.8 are \"fixedacidity\", \"volatileacidity\", \"alcohol\" respectively. These are the features that will be used to predict wine quality. The output 6 (quality) matches what we have in the dataset, which is:\n",
    "\n",
    "<i>fixedacidity,volatileacidity,citricacid,residualsugar,chlorides,freesulfurdioxide,totalsulfurdioxide,density,pH,sulphates,alcohol,quality\n",
    "7.4,0.7,0,1.9,0.076,11,34,0.9978,3.51,0.56,9.4,5\n",
    "7.8,0.88,0,2.6,0.098,25,67,0.9968,3.2,0.68,9.8,5\n",
    "7.8,0.76,0.04,2.3,0.092,15,54,0.997,3.26,0.65,9.8,5\n",
    "<b>11.2,0.28</b>,0.56,1.9,0.075,17,60,0.998,3.16,0.58,<b>9.8</b>,<b><font color=\"red\">6</font></b></i>\n",
    "\n",
    "The features used are bolded, and the quality 6 is highlighted in red."
   ]
  },
  {
   "cell_type": "markdown",
   "metadata": {},
   "source": [
    "## 6. Evaluating your learning performance."
   ]
  },
  {
   "cell_type": "markdown",
   "metadata": {},
   "source": [
    "In this section we'll evaluate the performance of our classifiers. Here, I used the SKLearn Metrics package to compute the accuracy score."
   ]
  },
  {
   "cell_type": "markdown",
   "metadata": {},
   "source": [
    "### 6.1 Accuracy measure for logistic regression"
   ]
  },
  {
   "cell_type": "code",
   "execution_count": 34,
   "metadata": {},
   "outputs": [],
   "source": [
    "def log_reg_fit_accuracy(x_train, y_train):\n",
    "    y_pred_log_reg = log_reg_fit(x_train, y_train)\n",
    "    log_reg_y = y_train\n",
    "    log_reg_accuracy_score = \"NULL\"\n",
    "    try:\n",
    "        log_reg_accuracy_score = metrics.accuracy_score(log_reg_y, y_pred_log_reg)\n",
    "    except Exception as error:\n",
    "        print(repr(error))\n",
    "        if repr(error) == \"ValueError(\\\"Classification metrics can't handle a mix of continuous and multiclass targets\\\")\":\n",
    "            log_reg_y = log_reg_y.apply(lambda x: int(x * 100000)) \n",
    "            log_reg_accuracy_score = metrics.accuracy_score(log_reg_y, y_pred_log_reg)\n",
    "\n",
    "    return log_reg_accuracy_score"
   ]
  },
  {
   "cell_type": "code",
   "execution_count": 35,
   "metadata": {},
   "outputs": [
    {
     "name": "stdout",
     "output_type": "stream",
     "text": [
      "Log Regression Prediction Accuracy:\n"
     ]
    },
    {
     "data": {
      "text/plain": [
       "0.5832681782642689"
      ]
     },
     "execution_count": 35,
     "metadata": {},
     "output_type": "execute_result"
    }
   ],
   "source": [
    "log_reg_accuracy_score = log_reg_fit_accuracy(x_train, y_train)\n",
    "print(\"Log Regression Prediction Accuracy:\")\n",
    "log_reg_accuracy_score"
   ]
  },
  {
   "cell_type": "markdown",
   "metadata": {},
   "source": [
    "### 6.2 Accuracy measure for KNN"
   ]
  },
  {
   "cell_type": "code",
   "execution_count": 36,
   "metadata": {},
   "outputs": [
    {
     "name": "stdout",
     "output_type": "stream",
     "text": [
      "KNN Predictions Accuracy:\n"
     ]
    },
    {
     "data": {
      "text/plain": [
       "0.7404222048475372"
      ]
     },
     "execution_count": 36,
     "metadata": {},
     "output_type": "execute_result"
    }
   ],
   "source": [
    "knn_lib_prediction = knn_lib_fit(x_train, y_train)\n",
    "print(\"KNN Predictions Accuracy:\")\n",
    "metrics.accuracy_score(y_train, knn_lib_prediction)"
   ]
  },
  {
   "cell_type": "markdown",
   "metadata": {},
   "source": [
    "### 6.3 Accuracy measure for KNN <i>(with no packaged library, for extra credit)</i>"
   ]
  },
  {
   "cell_type": "markdown",
   "metadata": {},
   "source": [
    "To get the accuracy measure for KNN I used the <i>error rate</i>, which is computed by the number of wrong answers divided by the number of tests. An error rate of 0 means you have a perfect classifier, and\n",
    "an error rate of 1.0 means the classifier is always wrong. In otherwords, the lower the value of the error rate, the better."
   ]
  },
  {
   "cell_type": "code",
   "execution_count": 37,
   "metadata": {},
   "outputs": [],
   "source": [
    "\n",
    "# Measure for KNN no lib\n",
    "def eval_knn_no_lib_classifier(target_feature_for_eval, source_features_list):\n",
    "    wrong_prediction = 0\n",
    "    group, labels = createDataSet(target_feature_for_eval, source_features_list)\n",
    "\n",
    "    for i in range(len(data_pd)):\n",
    "        source_features_list_row_value = []\n",
    "        for j in range(len(source_features_list)):\n",
    "            source_features_list_row_value.append(data_pd[source_features_list[j]].values.tolist()[i])\n",
    "\n",
    "        target_feature_for_comparing = data_pd[target_feature_for_eval][i]\n",
    "        # Line below is the classifier we're evaluating\n",
    "        #knn_no_lib_prediction = knn_classifier_no_lib([source_features_list_row_value[0],\n",
    "        #                                               source_features_list_row_value[1]], group, labels, 3)\n",
    "        knn_no_lib_prediction = knn_classifier_no_lib(source_features_list_row_value, group, labels, 3)\n",
    "\n",
    "        #print(\"prediction:\" + str(knn_no_lib_prediction) + \", actual: \" + str(target_feature_for_comparing))\n",
    "        if knn_no_lib_prediction != target_feature_for_comparing:\n",
    "            wrong_prediction = wrong_prediction + 1\n",
    "            #print(\"---wrong. count is now: \" + str(wrong_prediction))\n",
    "    error_rate = wrong_prediction / len(data_pd.quality)\n",
    "    return error_rate\n"
   ]
  },
  {
   "cell_type": "markdown",
   "metadata": {},
   "source": [
    "Let's run the function by classifyng \"pH\" level of wine."
   ]
  },
  {
   "cell_type": "code",
   "execution_count": 38,
   "metadata": {},
   "outputs": [
    {
     "name": "stdout",
     "output_type": "stream",
     "text": [
      "knn_classifier_error_rate:\n"
     ]
    },
    {
     "data": {
      "text/plain": [
       "0.14196372732958099"
      ]
     },
     "execution_count": 38,
     "metadata": {},
     "output_type": "execute_result"
    }
   ],
   "source": [
    "source_features_list_for_create_dataset = [\"fixedacidity\", \"volatileacidity\", \"pH\"]\n",
    "knn_classifier_error_rate = eval_knn_no_lib_classifier(\"pH\", source_features_list_for_create_dataset)\n",
    "print(\"knn_classifier_error_rate:\")\n",
    "knn_classifier_error_rate"
   ]
  },
  {
   "cell_type": "markdown",
   "metadata": {},
   "source": [
    "## 7. Making sure your results does not depend on your choosing parameters."
   ]
  },
  {
   "cell_type": "markdown",
   "metadata": {},
   "source": [
    "To make sure our result doe snot depend on the parameters, let's check run the evaluation functions above using various parameters. If the accuracy or error rate changes, this means that our chosen parameters is influencing the outcome.\n",
    "\n",
    "Using a different target feature. This time let's try predicting \"alcohol\" content using the features; \"citricacid\", \"residualsugar\", \"chlorides\""
   ]
  },
  {
   "cell_type": "code",
   "execution_count": 39,
   "metadata": {},
   "outputs": [
    {
     "name": "stdout",
     "output_type": "stream",
     "text": [
      "knn_classifier_error_rate:\n"
     ]
    },
    {
     "data": {
      "text/plain": [
       "0.14071294559099437"
      ]
     },
     "execution_count": 39,
     "metadata": {},
     "output_type": "execute_result"
    }
   ],
   "source": [
    "source_features_list_for_create_dataset = [\"citricacid\", \"residualsugar\", \"chlorides\"]\n",
    "knn_classifier_error_rate = eval_knn_no_lib_classifier(\"alcohol\", source_features_list_for_create_dataset)\n",
    "print(\"knn_classifier_error_rate:\")\n",
    "knn_classifier_error_rate"
   ]
  },
  {
   "cell_type": "markdown",
   "metadata": {},
   "source": [
    "As you can see the error rate of pH and alcohol is identical if rounded.\n",
    "\n",
    "To further assess the input parameters does not affect the accuracy outcome, I created a function below that loops on each feature of our dataset and checks the error rate for each one."
   ]
  },
  {
   "cell_type": "markdown",
   "metadata": {},
   "source": [
    "Let's try one more, this time with 4 features; \"freesulfurdioxide,totalsulfurdioxide,density,pH\". Predicting \"sulphates\""
   ]
  },
  {
   "cell_type": "code",
   "execution_count": 40,
   "metadata": {},
   "outputs": [
    {
     "name": "stdout",
     "output_type": "stream",
     "text": [
      "knn_classifier_error_rate:\n"
     ]
    },
    {
     "data": {
      "text/plain": [
       "0.12445278298936835"
      ]
     },
     "execution_count": 40,
     "metadata": {},
     "output_type": "execute_result"
    }
   ],
   "source": [
    "source_features_list_for_create_dataset = [\"freesulfurdioxide\",\"totalsulfurdioxide\",\"density\",\"pH\"]\n",
    "knn_classifier_error_rate = eval_knn_no_lib_classifier(\"sulphates\", source_features_list_for_create_dataset)\n",
    "print(\"knn_classifier_error_rate:\")\n",
    "knn_classifier_error_rate"
   ]
  },
  {
   "cell_type": "markdown",
   "metadata": {},
   "source": [
    "Here's a function the loops through each feature in the data set."
   ]
  },
  {
   "cell_type": "code",
   "execution_count": 41,
   "metadata": {},
   "outputs": [],
   "source": [
    "def eval_all_feature_error_rate(source_features_list):\n",
    "    for i in range(len(data_pd.columns.values)):\n",
    "        knn_classifier_error_rate = eval_knn_no_lib_classifier(data_pd.columns.values[i], source_features_list)\n",
    "        print(\"Data Feature Target (predicted feature): \" + str(data_pd.columns.values[i]) + \", Error Rate: \" + str(knn_classifier_error_rate))\n"
   ]
  },
  {
   "cell_type": "markdown",
   "metadata": {},
   "source": [
    "We call this function using a different set of features (\"citricacid\", \"residualsugar\", \"freesulfurdioxide\") to predict each feature in the data set."
   ]
  },
  {
   "cell_type": "code",
   "execution_count": 42,
   "metadata": {},
   "outputs": [
    {
     "name": "stdout",
     "output_type": "stream",
     "text": [
      "Data Feature Target (predicted feature): fixedacidity, Error Rate: 0.14509068167604752\n",
      "Data Feature Target (predicted feature): volatileacidity, Error Rate: 0.13821138211382114\n",
      "Data Feature Target (predicted feature): citricacid, Error Rate: 0.1357098186366479\n",
      "Data Feature Target (predicted feature): residualsugar, Error Rate: 0.12195121951219512\n",
      "Data Feature Target (predicted feature): chlorides, Error Rate: 0.1438398999374609\n",
      "Data Feature Target (predicted feature): freesulfurdioxide, Error Rate: 0.012507817385866166\n",
      "Data Feature Target (predicted feature): totalsulfurdioxide, Error Rate: 0.1432145090681676\n",
      "Data Feature Target (predicted feature): density, Error Rate: 0.13696060037523453\n",
      "Data Feature Target (predicted feature): pH, Error Rate: 0.1432145090681676\n",
      "Data Feature Target (predicted feature): sulphates, Error Rate: 0.14696685428392744\n",
      "Data Feature Target (predicted feature): alcohol, Error Rate: 0.150093808630394\n",
      "Data Feature Target (predicted feature): quality, Error Rate: 0.19949968730456535\n"
     ]
    }
   ],
   "source": [
    "source_features_list_for_all_feature_error_rate = [\"citricacid\", \"residualsugar\", \"freesulfurdioxide\"]\n",
    "eval_all_feature_error_rate(source_features_list_for_all_feature_error_rate)"
   ]
  },
  {
   "cell_type": "markdown",
   "metadata": {},
   "source": [
    "The error rates shown above are all very close to each other. This is an indication that our classifier is not influenced by the feature we choose."
   ]
  },
  {
   "cell_type": "markdown",
   "metadata": {},
   "source": [
    "## Summary"
   ]
  },
  {
   "cell_type": "markdown",
   "metadata": {},
   "source": [
    "In this project, I have demonstrated how we can perform data analysis and apply machine learning algorithms to derive meaning from data. In the first section I first performed general analysis of the data by using statistical definitions. Once I have understood the data I applied data cleansing processes to improve data handling and minimize programmatic issues as well as computation issues.\n",
    "\n",
    "Using the KNN algorithm, along with logistic regression I was able to classify wine quality based on a given pair of input variables. This algorithm can be used to predict wine quality for future unseen data sets.\n",
    "\n",
    "Lastly, I applied accuracy measures to assess performance of our algorithm. This is an important step in machine learning development given that data can take on many different forms and can have significant impact on the outcome."
   ]
  },
  {
   "cell_type": "markdown",
   "metadata": {},
   "source": [
    "## References"
   ]
  },
  {
   "cell_type": "markdown",
   "metadata": {},
   "source": [
    "[1] https://www.science-emergence.com/Articles/How-to-plot-a-normal-distribution-with-matplotlib-in-python-/<br>\n",
    "[2] Dividing your data into a training and test set. https://pythonprogramminglanguage.com/training-and-test-data/\n",
    "https://data-flair.training/blogs/train-test-set-in-python-ml/<br>\n",
    "[3] Splitting data best practice. https://en.wikipedia.org/wiki/Training,_validation,_and_test_sets<br>\n",
    "[4] KNN Algorithm in practice, Machine Learning in Action by Peter Harrington<br>"
   ]
  }
 ],
 "metadata": {
  "kernelspec": {
   "display_name": "Python 3",
   "language": "python",
   "name": "python3"
  },
  "language_info": {
   "codemirror_mode": {
    "name": "ipython",
    "version": 3
   },
   "file_extension": ".py",
   "mimetype": "text/x-python",
   "name": "python",
   "nbconvert_exporter": "python",
   "pygments_lexer": "ipython3",
   "version": "3.7.4"
  }
 },
 "nbformat": 4,
 "nbformat_minor": 2
}
